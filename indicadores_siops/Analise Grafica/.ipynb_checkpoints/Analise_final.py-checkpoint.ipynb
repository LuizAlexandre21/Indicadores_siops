{
 "cells": [
  {
   "cell_type": "markdown",
   "id": "9cd68e26",
   "metadata": {},
   "source": [
    "# Analise - Final "
   ]
  },
  {
   "cell_type": "markdown",
   "id": "ced9bdbb",
   "metadata": {},
   "source": [
    "## Biblioteca"
   ]
  },
  {
   "cell_type": "code",
   "execution_count": 1,
   "id": "6749e8cb",
   "metadata": {},
   "outputs": [],
   "source": [
    "# Biblioteca \n",
    "import pandas as pd \n",
    "import numpy as np \n",
    "import json\n",
    "from database import * \n",
    "import datetime"
   ]
  },
  {
   "cell_type": "markdown",
   "id": "faafa1c0",
   "metadata": {},
   "source": [
    "## Função de deflação"
   ]
  },
  {
   "cell_type": "code",
   "execution_count": 2,
   "id": "ddd079a0",
   "metadata": {},
   "outputs": [],
   "source": [
    "def deflação(serie,ano_base):\n",
    "    IPCA = {'1980':99.2504889542286,'1981':95.6230442372937,'1982':104.790433277431,'1983':164.01202400196,'1984':215.263325738616,'1985':242.229795207366,'1986':79.6644968645082,'1987':363.411523705732,'1988':980.213487131888,'1989':1972.91162333472,'1990':1620.96646812495,'1991':472.6999999996,'1992':1119.10075082943,'1993':2477.14712129698,'1994':916.46,'1995':22.4081616590914,'1996':9.56495181758998,'1997':5.22431853525425,'1998':1.65497817994227,'1999':8.93978878068851,'2000':5.97459334239816,'2001':7.67343641407332,'2002':12.5302733566877,'2003':9.30051280040003,'2004':7.59949584882642,'2005':5.68922681873509,'2006':3.14151613157687,'2007':4.45765855337372,'2008':5.90272439065465,'2009':4.31165006256784,'2010':5.90868872179453,'2011':6.50335274368017,'2012':5.83859471814745,'2013':5.91068325533108,'2014':6.40747079590815,'2015':10.6730281339751,'2016':6.28798821322138,'2017':2.94742132043471,'2018':3.74558117019155,'2019':4.30615161715953,'2020':4.51745688642451}\n",
    "    deflac =[]\n",
    "    for i in serie.index:\n",
    "        x = (IPCA[i.strftime(\"%Y\")]/IPCA[ano_base])*serie.loc[i]\n",
    "        deflac.append(x)\n",
    "        \n",
    "    return(deflac)"
   ]
  },
  {
   "cell_type": "markdown",
   "id": "3cb59d48",
   "metadata": {},
   "source": [
    "## Função de Series Temporais "
   ]
  },
  {
   "cell_type": "code",
   "execution_count": 3,
   "id": "89795806",
   "metadata": {},
   "outputs": [],
   "source": [
    "def time_serie(dataframe):\n",
    "    new_serie=[]\n",
    "    for i in dataframe:\n",
    "        new_serie.append(datetime.datetime.strptime(str(i),'%Y'))\n",
    "        \n",
    "    return new_serie"
   ]
  },
  {
   "cell_type": "code",
   "execution_count": 4,
   "id": "1628405e",
   "metadata": {},
   "outputs": [],
   "source": [
    "# dados = ReceitasAdicionais.select(ReceitasAdicionais.municipio, ClassificaçõesMunicipio.Região, ClassificaçõesMunicipio.IDH,ReceitasAdicionais.codigo_Municipio, ReceitasAdicionais.estado, ReceitasAdicionais.ano, ReceitasAdicionais.campo, ReceitasAdicionais.Receitas_realizadas_Bimestre,(ReceitasAdicionais.Receitas_realizadas_Bimestre/Populacao.populacao_estimada).alias('Receitas_pc')).join(ClassificaçõesMunicipio,on=(ReceitasAdicionais.municipio==ClassificaçõesMunicipio.Municipio)).join(Populacao,on=((ReceitasAdicionais.municipio==Populacao.municipio) |(ReceitasAdicionais.ano==Populacao.Ano))).where((ReceitasAdicionais.campo=='Provenientes da União')|(ReceitasAdicionais.campo == 'Provenientes dos Estados')| (ReceitasAdicionais.campo== \"TOTAL RECEITAS ADICIONAIS PARA FINANCIAMENTO DA SAÚDE\") &(ReceitasAdicionais.estado == \"Ceará\"))\n",
    "#Apuração= pd.DataFrame(dados.dicts())\n",
    "Apuração = pd.read_csv(\"Tabela_apuração.csv\")\n",
    "Apuração_def = pd.DataFrame(Apuração['Receitas_realizadas_Bimestre'].values,index= time_serie(Apuração['ano']))\n",
    "Apuração['Receitas_realizadas_Bimestre'] = Apuração_def.values\n",
    "Apuração['Receitas_pc'] = Apuração['Receitas_realizadas_Bimestre']/Apuração['populacao_estimada']"
   ]
  },
  {
   "cell_type": "code",
   "execution_count": 5,
   "id": "d4e54ebb",
   "metadata": {},
   "outputs": [],
   "source": [
    "# Importando dados de Receitas Adicionais\n",
    "\n",
    "#data = ReceitasAdicionais.select(ReceitasAdicionais.municipio, ClassificaçõesMunicipio.Região, ClassificaçõesMunicipio.IDH,ReceitasAdicionais.codigo_Municipio, ReceitasAdicionais.estado, ReceitasAdicionais.ano, ReceitasAdicionais.campo, ReceitasAdicionais.Receitas_realizadas_Bimestre,(ReceitasAdicionais.Receitas_realizadas_Bimestre/Populacao.populacao_estimada).alias('Receitas_pc')).join(ClassificaçõesMunicipio,on=(ReceitasAdicionais.municipio == ClassificaçõesMunicipio.Municipio)).join(Populacao,on=((ReceitasAdicionais.municipio==Populacao.municipio)|(ReceitasAdicionais.ano == População.ano)).where((ReceitasAdicionais.campo=='Provenientes da União')|(ReceitasAdicionais.campo == 'Provenientes dos Estados')| (ReceitasAdicionais.campo== \"TOTAL DAS RECEITAS PARA APURAÇÃO DA APLICAÇÃO EM AÇÕES E SERVIÇOS PÚBLICOS DE SAÚDE (III) = I + II\") &(ReceitasAdicionais.estado == \"Ceará\"))\n",
    "#Adicional = pd.DataFrame(dados.dicts())\n",
    "Adicional = pd.read_csv(\"Adicional.csv\")\n",
    "Adicional_def = pd.DataFrame(Adicional['Receitas_realizadas_Bimestre'].values,index= time_serie(Adicional['ano']))\n",
    "Adicional['Receitas_realizadas_Bimestre'] = Adicional_def.values\n",
    "Adicional['Receitas_pc']= Adicional['Receitas_realizadas_Bimestre']/Adicional['populacao_estimada']"
   ]
  },
  {
   "cell_type": "markdown",
   "id": "02642af4",
   "metadata": {},
   "source": [
    "## 1. Receita Municipal total - Região"
   ]
  },
  {
   "cell_type": "code",
   "execution_count": 6,
   "id": "315ef72e",
   "metadata": {},
   "outputs": [],
   "source": [
    "tabela={'Região':[],'2013':[],'2014':[],'2015':[],'2016':[],'2017':[],'2018':[],'2019':[]}\n",
    "for Região in np.unique(Apuração['Região']):\n",
    "        tabela['Região'].append(Região)\n",
    "        for ano in np.unique(Apuração['ano']):\n",
    "            região = Apuração[(Apuração['Região']==Região) & (Apuração['ano']==ano)]\n",
    "            numerador = sum(região[região['campo']=='RECEITA DE IMPOSTOS LÍQUIDA (I)']['Receitas_realizadas_Bimestre'])\n",
    "            tabela[str(ano)].append(round(numerador/1000000,2))"
   ]
  },
  {
   "cell_type": "code",
   "execution_count": 48,
   "id": "cee8f911",
   "metadata": {},
   "outputs": [
    {
     "data": {
      "text/html": [
       "<div>\n",
       "<style scoped>\n",
       "    .dataframe tbody tr th:only-of-type {\n",
       "        vertical-align: middle;\n",
       "    }\n",
       "\n",
       "    .dataframe tbody tr th {\n",
       "        vertical-align: top;\n",
       "    }\n",
       "\n",
       "    .dataframe thead th {\n",
       "        text-align: right;\n",
       "    }\n",
       "</style>\n",
       "<table border=\"1\" class=\"dataframe\">\n",
       "  <thead>\n",
       "    <tr style=\"text-align: right;\">\n",
       "      <th></th>\n",
       "      <th>Porte</th>\n",
       "      <th>2013</th>\n",
       "      <th>2014</th>\n",
       "      <th>2015</th>\n",
       "      <th>2016</th>\n",
       "      <th>2017</th>\n",
       "      <th>2018</th>\n",
       "      <th>2019</th>\n",
       "    </tr>\n",
       "  </thead>\n",
       "  <tbody>\n",
       "    <tr>\n",
       "      <th>0</th>\n",
       "      <td>Até 5.000 hab.</td>\n",
       "      <td>0.011048</td>\n",
       "      <td>0.025777</td>\n",
       "      <td>0.049259</td>\n",
       "      <td>0.033765</td>\n",
       "      <td>0.000000</td>\n",
       "      <td>0.071880</td>\n",
       "      <td>0.019942</td>\n",
       "    </tr>\n",
       "    <tr>\n",
       "      <th>1</th>\n",
       "      <td>De 10.001 a 20.000 hab.</td>\n",
       "      <td>0.038567</td>\n",
       "      <td>0.040953</td>\n",
       "      <td>0.025183</td>\n",
       "      <td>0.022080</td>\n",
       "      <td>0.026067</td>\n",
       "      <td>0.032895</td>\n",
       "      <td>0.019649</td>\n",
       "    </tr>\n",
       "    <tr>\n",
       "      <th>2</th>\n",
       "      <td>De 100.001 a 500.000 hab.</td>\n",
       "      <td>0.048641</td>\n",
       "      <td>0.114572</td>\n",
       "      <td>0.072925</td>\n",
       "      <td>0.103325</td>\n",
       "      <td>0.096375</td>\n",
       "      <td>0.064749</td>\n",
       "      <td>0.060415</td>\n",
       "    </tr>\n",
       "    <tr>\n",
       "      <th>3</th>\n",
       "      <td>De 20.001 a 50.000 hab.</td>\n",
       "      <td>0.027542</td>\n",
       "      <td>0.041521</td>\n",
       "      <td>0.027392</td>\n",
       "      <td>0.020840</td>\n",
       "      <td>0.030044</td>\n",
       "      <td>0.052147</td>\n",
       "      <td>0.035326</td>\n",
       "    </tr>\n",
       "    <tr>\n",
       "      <th>4</th>\n",
       "      <td>De 5.001 a 10.000 hab.</td>\n",
       "      <td>0.013929</td>\n",
       "      <td>0.042875</td>\n",
       "      <td>0.013451</td>\n",
       "      <td>0.018006</td>\n",
       "      <td>0.018259</td>\n",
       "      <td>0.028181</td>\n",
       "      <td>0.006700</td>\n",
       "    </tr>\n",
       "    <tr>\n",
       "      <th>5</th>\n",
       "      <td>De 50.001 a 100.000 hab.</td>\n",
       "      <td>0.030446</td>\n",
       "      <td>0.116606</td>\n",
       "      <td>0.070958</td>\n",
       "      <td>0.066629</td>\n",
       "      <td>0.107858</td>\n",
       "      <td>0.056475</td>\n",
       "      <td>0.067974</td>\n",
       "    </tr>\n",
       "    <tr>\n",
       "      <th>6</th>\n",
       "      <td>Mais de 500.000 hab.</td>\n",
       "      <td>0.029109</td>\n",
       "      <td>0.071745</td>\n",
       "      <td>0.077391</td>\n",
       "      <td>0.092815</td>\n",
       "      <td>0.093348</td>\n",
       "      <td>0.112554</td>\n",
       "      <td>0.075331</td>\n",
       "    </tr>\n",
       "  </tbody>\n",
       "</table>\n",
       "</div>"
      ],
      "text/plain": [
       "                       Porte      2013      2014      2015      2016  \\\n",
       "0             Até 5.000 hab.  0.011048  0.025777  0.049259  0.033765   \n",
       "1    De 10.001 a 20.000 hab.  0.038567  0.040953  0.025183  0.022080   \n",
       "2  De 100.001 a 500.000 hab.  0.048641  0.114572  0.072925  0.103325   \n",
       "3    De 20.001 a 50.000 hab.  0.027542  0.041521  0.027392  0.020840   \n",
       "4     De 5.001 a 10.000 hab.  0.013929  0.042875  0.013451  0.018006   \n",
       "5   De 50.001 a 100.000 hab.  0.030446  0.116606  0.070958  0.066629   \n",
       "6       Mais de 500.000 hab.  0.029109  0.071745  0.077391  0.092815   \n",
       "\n",
       "       2017      2018      2019  \n",
       "0  0.000000  0.071880  0.019942  \n",
       "1  0.026067  0.032895  0.019649  \n",
       "2  0.096375  0.064749  0.060415  \n",
       "3  0.030044  0.052147  0.035326  \n",
       "4  0.018259  0.028181  0.006700  \n",
       "5  0.107858  0.056475  0.067974  \n",
       "6  0.093348  0.112554  0.075331  "
      ]
     },
     "execution_count": 48,
     "metadata": {},
     "output_type": "execute_result"
    }
   ],
   "source": [
    "pd.DataFrame(tabela).to_csv(\"1. Receita Municipal total - Região.csv\")\n",
    "pd.DataFrame(tabela)"
   ]
  },
  {
   "cell_type": "markdown",
   "id": "2e34adf5",
   "metadata": {},
   "source": [
    "## 2. Receita Municipal total - Região"
   ]
  },
  {
   "cell_type": "code",
   "execution_count": 7,
   "id": "c1bbbd89",
   "metadata": {},
   "outputs": [],
   "source": [
    "tabela={'Região':[],'2013':[],'2014':[],'2015':[],'2016':[],'2017':[],'2018':[],'2019':[]}\n",
    "for Região in np.unique(Apuração['Região']):\n",
    "        tabela['Região'].append(Região)\n",
    "        for ano in np.unique(Apuração['ano']):\n",
    "            região = Apuração[(Apuração['Região']==Região) & (Apuração['ano']==ano)]\n",
    "            numerador = sum(região[região['campo']=='RECEITA DE IMPOSTOS LÍQUIDA (I)']['Receitas_pc'])\n",
    "            tabela[str(ano)].append(round(numerador,2))"
   ]
  },
  {
   "cell_type": "code",
   "execution_count": 49,
   "id": "978fae16",
   "metadata": {},
   "outputs": [],
   "source": [
    "pd.DataFrame(tabela).to_csv(\" 2. Receita Municipal total - Região.csv\")"
   ]
  },
  {
   "cell_type": "markdown",
   "id": "3cad25a2",
   "metadata": {},
   "source": [
    "## 3. Percentual da receita liquida municipal"
   ]
  },
  {
   "cell_type": "code",
   "execution_count": 9,
   "id": "4453b2b2",
   "metadata": {},
   "outputs": [],
   "source": [
    "tabela={'Região':[],'2013':[],'2014':[],'2http://localhost:8889/notebooks/Analise_final.py.ipynb#3.-Percentual-da-receita-liquida-municipal015':[],'2016':[],'2017':[],'2018':[],'2019':[]}\n",
    "for Região in np.unique(Apuração['Região']):\n",
    "        tabela['Região'].append(Região)\n",
    "        for ano in np.unique(Apuração['ano']):\n",
    "            try:\n",
    "                região = Apuração[(Apuração['Região']==Região) & (Apuração['ano']==ano)]\n",
    "                numerador = sum(região[região['campo']=='RECEITA DE IMPOSTOS LÍQUIDA (I)']['Receitas_realizadas_Bimestre'])\n",
    "                denominador = sum(região[região['campo']== 'TOTAL DAS RECEITAS PARA APURAÇÃO DA APLICAÇÃO EM AÇÕES E SERVIÇOS PÚBLICOS DE SAÚDE (III) = I + II']['Receitas_realizadas_Bimestre'])\n",
    "                tabela[str(ano)].append(numerador/denominador)\n",
    "            except:\n",
    "                tabela[str(ano)].append(0)\n",
    "                "
   ]
  },
  {
   "cell_type": "code",
   "execution_count": 51,
   "id": "b3c725f6",
   "metadata": {},
   "outputs": [],
   "source": [
    "pd.DataFrame(tabela).to_csv(\"3. Percentual da receita liquida municipal.csv\")"
   ]
  },
  {
   "cell_type": "markdown",
   "id": "22672f35",
   "metadata": {},
   "source": [
    "### 4. Percentual da receita Liquida - IDH"
   ]
  },
  {
   "cell_type": "code",
   "execution_count": 11,
   "id": "fad5c8a1",
   "metadata": {},
   "outputs": [],
   "source": [
    "tabela={'IDH':[],'2013':[],'2014':[],'2015':[],'2016':[],'2017':[],'2018':[],'2019':[]}\n",
    "for IDH in np.unique(Apuração['IDH']):\n",
    "        tabela['IDH'].append(IDH)\n",
    "        for ano in np.unique(Apuração['ano']):\n",
    "            try:\n",
    "                região = Apuração[(Apuração['IDH']==IDH) & (Apuração['ano']==ano)]\n",
    "                numerador = sum(região[região['campo']=='RECEITA DE IMPOSTOS LÍQUIDA (I)']['Receitas_realizadas_Bimestre'])\n",
    "                denominador = sum(região[região['campo']== 'TOTAL DAS RECEITAS PARA APURAÇÃO DA APLICAÇÃO EM AÇÕES E SERVIÇOS PÚBLICOS DE SAÚDE (III) = I + II']['Receitas_realizadas_Bimestre'])\n",
    "                tabela[str(ano)].append(numerador/denominador)\n",
    "            except:\n",
    "                tabela[str(ano)].append(0)\n",
    "                "
   ]
  },
  {
   "cell_type": "code",
   "execution_count": 53,
   "id": "6a2e0f5a",
   "metadata": {
    "scrolled": true
   },
   "outputs": [],
   "source": [
    "pd.DataFrame(tabela).to_csv(\"4. Percentual da receita Liquida - IDH.csv\")"
   ]
  },
  {
   "cell_type": "markdown",
   "id": "fa3e3688",
   "metadata": {},
   "source": [
    "### 11. Receitas liquida municipal  - Porte"
   ]
  },
  {
   "cell_type": "code",
   "execution_count": 13,
   "id": "f692d79f",
   "metadata": {},
   "outputs": [],
   "source": [
    "tabela={'Porte':[],'2013':[],'2014':[],'2015':[],'2016':[],'2017':[],'2018':[],'2019':[]}\n",
    "for Porte in np.unique(Apuração['Porte']):\n",
    "        tabela['Porte'].append(Porte)\n",
    "        for ano in np.unique(Apuração['ano']):\n",
    "            try:\n",
    "                região = Apuração[(Apuração['Porte']==Porte) & (Apuração['ano']==ano)]\n",
    "                numerador = sum(região[região['campo']=='RECEITA DE IMPOSTOS LÍQUIDA (I)']['Receitas_realizadas_Bimestre'])\n",
    "                denominador = sum(região[região['campo']== 'TOTAL DAS RECEITAS PARA APURAÇÃO DA APLICAÇÃO EM AÇÕES E SERVIÇOS PÚBLICOS DE SAÚDE (III) = I + II']['Receitas_realizadas_Bimestre'])\n",
    "                tabela[str(ano)].append(numerador/denominador)\n",
    "            except:\n",
    "                tabela[str(ano)].append(0)"
   ]
  },
  {
   "cell_type": "code",
   "execution_count": 55,
   "id": "a9550972",
   "metadata": {},
   "outputs": [],
   "source": [
    "pd.DataFrame(tabela).to_csv(\"11. Receitas liquida municipal - Porte.csv\")"
   ]
  },
  {
   "cell_type": "markdown",
   "id": "b85fcbb1",
   "metadata": {},
   "source": [
    "### 5. Receita total per capita"
   ]
  },
  {
   "cell_type": "code",
   "execution_count": 15,
   "id": "4e911eeb",
   "metadata": {},
   "outputs": [],
   "source": [
    "tabela={'IDH':[],'2013':[],'2014':[],'2015':[],'2016':[],'2017':[],'2018':[],'2019':[]}\n",
    "for IDH in np.unique(Apuração['IDH']):\n",
    "        tabela['IDH'].append(IDH)\n",
    "        for ano in np.unique(Apuração['ano']):\n",
    "            try:\n",
    "                região = Apuração[(Apuração['IDH']==IDH) & (Apuração['ano']==ano)]\n",
    "                numerador = sum(região[região['campo']=='TOTAL DAS RECEITAS PARA APURAÇÃO DA APLICAÇÃO EM AÇÕES E SERVIÇOS PÚBLICOS DE SAÚDE (III) = I + II']['Receitas_pc'])\n",
    "                tabela[str(ano)].append(numerador)\n",
    "            except:\n",
    "                tabela[str(ano)].append(0)"
   ]
  },
  {
   "cell_type": "code",
   "execution_count": 56,
   "id": "258aab32",
   "metadata": {
    "scrolled": true
   },
   "outputs": [],
   "source": [
    "pd.DataFrame(tabela).to_csv(\"Receita total per capita.csv\")"
   ]
  },
  {
   "cell_type": "markdown",
   "id": "448054ee",
   "metadata": {},
   "source": [
    "### 12. Receita total per capita"
   ]
  },
  {
   "cell_type": "code",
   "execution_count": 17,
   "id": "aa01ed83",
   "metadata": {},
   "outputs": [],
   "source": [
    "tabela={'Porte':[],'2013':[],'2014':[],'2015':[],'2016':[],'2017':[],'2018':[],'2019':[]}\n",
    "for Porte in np.unique(Apuração['Porte']):\n",
    "        tabela['Porte'].append(Porte)\n",
    "        for ano in np.unique(Apuração['ano']):\n",
    "            try:\n",
    "                região = Apuração[(Apuração['Porte']==Porte) & (Apuração['ano']==ano)]\n",
    "                numerador = sum(região[região['campo']=='TOTAL DAS RECEITAS PARA APURAÇÃO DA APLICAÇÃO EM AÇÕES E SERVIÇOS PÚBLICOS DE SAÚDE (III) = I + II']['Receitas_pc'])\n",
    "                tabela[str(ano)].append(numerador)\n",
    "            except:\n",
    "                tabela[str(ano)].append(0)"
   ]
  },
  {
   "cell_type": "code",
   "execution_count": 57,
   "id": "1393f975",
   "metadata": {},
   "outputs": [],
   "source": [
    "pd.DataFrame(tabela).to_csv(\" Receita total per capita.csv\")"
   ]
  },
  {
   "cell_type": "markdown",
   "id": "1f697c74",
   "metadata": {},
   "source": [
    "### 6. Transferências da União e Estado \n",
    "#### 6.1 Transferências da União "
   ]
  },
  {
   "cell_type": "code",
   "execution_count": 19,
   "id": "a0d8b94c",
   "metadata": {},
   "outputs": [],
   "source": [
    "tabela={'Região':[],'2013':[],'2014':[],'2015':[],'2016':[],'2017':[],'2018':[],'2019':[]}\n",
    "for Região in np.unique(Apuração['Região']):\n",
    "        tabela['Região'].append(Região)\n",
    "        for ano in np.unique(Apuração['ano']):\n",
    "            try:\n",
    "                região = Apuração[(Apuração['Região']==Região) & (Apuração['ano']==ano)]\n",
    "                numerador = sum(região[região['campo']==\"Cota-Parte FPM\"]['Receitas_realizadas_Bimestre']) + sum(região[região['campo']==\"Cota-Parte ITR\"]['Receitas_realizadas_Bimestre']) + sum(região[região['campo']==\"Desoneração ICMS (LC 87/96)\"]['Receitas_realizadas_Bimestre'])\n",
    "                denominador = sum(região[região['campo']== 'TOTAL DAS RECEITAS PARA APURAÇÃO DA APLICAÇÃO EM AÇÕES E SERVIÇOS PÚBLICOS DE SAÚDE (III) = I + II']['Receitas_realizadas_Bimestre'])\n",
    "                tabela[str(ano)].append(numerador/denominador)\n",
    "            except:\n",
    "                tabela[str(ano)].append(0)"
   ]
  },
  {
   "cell_type": "code",
   "execution_count": 58,
   "id": "3b860a78",
   "metadata": {
    "scrolled": true
   },
   "outputs": [],
   "source": [
    "pd.DataFrame(tabela).to_csv(\"6.1 Transferências da União.csv\")"
   ]
  },
  {
   "cell_type": "markdown",
   "id": "9e687e8e",
   "metadata": {},
   "source": [
    "### 13. Transferências da União e Estado \n",
    "#### 13.1 Transferências da União "
   ]
  },
  {
   "cell_type": "code",
   "execution_count": 21,
   "id": "c94e8e32",
   "metadata": {},
   "outputs": [],
   "source": [
    "tabela={'Porte':[],'2013':[],'2014':[],'2015':[],'2016':[],'2017':[],'2018':[],'2019':[]}\n",
    "for Porte in np.unique(Apuração['Porte']):\n",
    "        tabela['Porte'].append(Porte)\n",
    "        for ano in np.unique(Apuração['ano']):\n",
    "            try:\n",
    "                região = Apuração[(Apuração['Porte']==Porte) & (Apuração['ano']==ano)]\n",
    "                numerador = sum(região[região['campo']==\"Cota-Parte FPM\"]['Receitas_realizadas_Bimestre']) + sum(região[região['campo']==\"Cota-Parte ITR\"]['Receitas_realizadas_Bimestre']) + sum(região[região['campo']==\"Desoneração ICMS (LC 87/96)\"]['Receitas_realizadas_Bimestre'])\n",
    "                denominador = sum(região[região['campo']== 'TOTAL DAS RECEITAS PARA APURAÇÃO DA APLICAÇÃO EM AÇÕES E SERVIÇOS PÚBLICOS DE SAÚDE (III) = I + II']['Receitas_realizadas_Bimestre'])\n",
    "                tabela[str(ano)].append(numerador/denominador)\n",
    "            except:\n",
    "                tabela[str(ano)].append(0)"
   ]
  },
  {
   "cell_type": "code",
   "execution_count": 59,
   "id": "9d57d02b",
   "metadata": {},
   "outputs": [],
   "source": [
    "pd.DataFrame(tabela).to_csv(\"13.1 Transferências da União - Porte.csv\")"
   ]
  },
  {
   "cell_type": "markdown",
   "id": "58afbc68",
   "metadata": {},
   "source": [
    "#### 6.2 Transferências do Estado"
   ]
  },
  {
   "cell_type": "code",
   "execution_count": 23,
   "id": "b5e0c45b",
   "metadata": {},
   "outputs": [],
   "source": [
    "tabela={'Região':[],'2013':[],'2014':[],'2015':[],'2016':[],'2017':[],'2018':[],'2019':[]}\n",
    "for Região in np.unique(Apuração['Região']):\n",
    "        tabela['Região'].append(Região)\n",
    "        for ano in np.unique(Apuração['ano']):\n",
    "            try:\n",
    "                região = Apuração[(Apuração['Região']==Região) & (Apuração['ano']==ano)]\n",
    "                numerador = sum(região[região['campo']==\"Cota-Parte ICMS\"]['Receitas_realizadas_Bimestre']) + sum(região[região['campo']==\"Cota-Parte IPI-Exportação\"]['Receitas_realizadas_Bimestre']) + sum(região[região['campo']==\"Cota-Parte IPVA\"]['Receitas_realizadas_Bimestre'])\n",
    "                denominador = sum(região[região['campo']== 'TOTAL DAS RECEITAS PARA APURAÇÃO DA APLICAÇÃO EM AÇÕES E SERVIÇOS PÚBLICOS DE SAÚDE (III) = I + II']['Receitas_realizadas_Bimestre'])\n",
    "                tabela[str(ano)].append(numerador/denominador)\n",
    "            except:\n",
    "                tabela[str(ano)].append(0)"
   ]
  },
  {
   "cell_type": "code",
   "execution_count": 60,
   "id": "58e39b46",
   "metadata": {
    "scrolled": true
   },
   "outputs": [],
   "source": [
    "pd.DataFrame(tabela).to_csv(\"Transferências do Estado.csv \")"
   ]
  },
  {
   "cell_type": "markdown",
   "id": "fb63cdbc",
   "metadata": {},
   "source": [
    "#### 13.2 Transferências do Estado"
   ]
  },
  {
   "cell_type": "code",
   "execution_count": 25,
   "id": "d16e9574",
   "metadata": {},
   "outputs": [],
   "source": [
    "tabela={'Porte':[],'2013':[],'2014':[],'2015':[],'2016':[],'2017':[],'2018':[],'2019':[]}\n",
    "for Porte in np.unique(Apuração['Porte']):\n",
    "        tabela['Porte'].append(Porte)\n",
    "        for ano in np.unique(Apuração['ano']):\n",
    "            try:\n",
    "                região = Apuração[(Apuração['Porte']==Porte) & (Apuração['ano']==ano)]\n",
    "                numerador = sum(região[região['campo']==\"Cota-Parte ICMS\"]['Receitas_realizadas_Bimestre']) + sum(região[região['campo']==\"Cota-Parte IPI-Exportação\"]['Receitas_realizadas_Bimestre']) + sum(região[região['campo']==\"Cota-Parte IPVA\"]['Receitas_realizadas_Bimestre'])\n",
    "                denominador = sum(região[região['campo']== 'TOTAL DAS RECEITAS PARA APURAÇÃO DA APLICAÇÃO EM AÇÕES E SERVIÇOS PÚBLICOS DE SAÚDE (III) = I + II']['Receitas_realizadas_Bimestre'])\n",
    "                tabela[str(ano)].append(numerador/denominador)\n",
    "            except:\n",
    "                tabela[str(ano)].append(0)"
   ]
  },
  {
   "cell_type": "code",
   "execution_count": 61,
   "id": "d4a9011b",
   "metadata": {},
   "outputs": [],
   "source": [
    "pd.DataFrame(tabela).to_csv(\"13.2 Transferências do Estado.csv\")"
   ]
  },
  {
   "cell_type": "markdown",
   "id": "ba0af326",
   "metadata": {},
   "source": [
    "### 7. Transferências da União e Estado - IDH\n",
    "#### 7.1 Transferências da União "
   ]
  },
  {
   "cell_type": "code",
   "execution_count": 27,
   "id": "52fc9815",
   "metadata": {},
   "outputs": [],
   "source": [
    "tabela={'IDH':[],'2013':[],'2014':[],'2015':[],'2016':[],'2017':[],'2018':[],'2019':[]}\n",
    "for IDH in np.unique(Apuração['IDH']):\n",
    "        tabela['IDH'].append(IDH)\n",
    "        for ano in np.unique(Apuração['ano']):\n",
    "            try:\n",
    "                região = Apuração[(Apuração['IDH']==IDH) & (Apuração['ano']==ano)]\n",
    "                numerador = sum(região[região['campo']==\"Cota-Parte FPM\"]['Receitas_realizadas_Bimestre']) + sum(região[região['campo']==\"Cota-Parte ITR\"]['Receitas_realizadas_Bimestre']) + sum(região[região['campo']==\"Desoneração ICMS (LC 87/96)\"]['Receitas_realizadas_Bimestre'])\n",
    "                denominador = sum(região[região['campo']== 'TOTAL DAS RECEITAS PARA APURAÇÃO DA APLICAÇÃO EM AÇÕES E SERVIÇOS PÚBLICOS DE SAÚDE (III) = I + II']['Receitas_realizadas_Bimestre'])\n",
    "                tabela[str(ano)].append(numerador/denominador)\n",
    "            except:\n",
    "                tabela[str(ano)].append(0)"
   ]
  },
  {
   "cell_type": "code",
   "execution_count": 65,
   "id": "653b1776",
   "metadata": {},
   "outputs": [],
   "source": [
    "pd.DataFrame(tabela).to_csv(\"7.1 Transferências da União - IDH.csv\")"
   ]
  },
  {
   "cell_type": "markdown",
   "id": "7a91173c",
   "metadata": {},
   "source": [
    "#### 7.2 Transferências da Estado"
   ]
  },
  {
   "cell_type": "code",
   "execution_count": 29,
   "id": "08997b4c",
   "metadata": {},
   "outputs": [],
   "source": [
    "tabela={'IDH':[],'2013':[],'2014':[],'2015':[],'2016':[],'2017':[],'2018':[],'2019':[]}\n",
    "for IDH in np.unique(Apuração['IDH']):\n",
    "        tabela['IDH'].append(IDH)\n",
    "        for ano in np.unique(Apuração['ano']):\n",
    "            try:\n",
    "                região = Apuração[(Apuração['IDH']==IDH) & (Apuração['ano']==ano)]\n",
    "                numerador = sum(região[região['campo']==\"Cota-Parte ICMS\"]['Receitas_realizadas_Bimestre']) + sum(região[região['campo']==\"Cota-Parte IPI-Exportação\"]['Receitas_realizadas_Bimestre']) + sum(região[região['campo']==\"Cota-Parte IPVA\"]['Receitas_realizadas_Bimestre'])\n",
    "                denominador = sum(região[região['campo']== 'TOTAL DAS RECEITAS PARA APURAÇÃO DA APLICAÇÃO EM AÇÕES E SERVIÇOS PÚBLICOS DE SAÚDE (III) = I + II']['Receitas_realizadas_Bimestre'])\n",
    "                tabela[str(ano)].append(numerador/denominador)\n",
    "            except:\n",
    "                tabela[str(ano)].append(0)"
   ]
  },
  {
   "cell_type": "code",
   "execution_count": 64,
   "id": "77402194",
   "metadata": {
    "scrolled": true
   },
   "outputs": [],
   "source": [
    "pd.DataFrame(tabela).to_csv(\"7.2 Transferências da Estado.csv\")"
   ]
  },
  {
   "cell_type": "markdown",
   "id": "44922fa0",
   "metadata": {},
   "source": [
    "### 8. Receita adicional total \n"
   ]
  },
  {
   "cell_type": "code",
   "execution_count": 31,
   "id": "be7ba44b",
   "metadata": {},
   "outputs": [],
   "source": [
    "tabela={'Região':[],'2013':[],'2014':[],'2015':[],'2016':[],'2017':[],'2018':[],'2019':[]}\n",
    "for Região in np.unique(Adicional['Região']):\n",
    "        tabela['Região'].append(Região)\n",
    "        for ano in np.unique(Adicional['ano']):\n",
    "            try:\n",
    "                região = Adicional[(Adicional['Região']==Região) & (Adicional['ano']==ano)]\n",
    "                denominador =  sum(região[região['campo']=='TOTAL RECEITAS ADICIONAIS PARA FINANCIAMENTO DA SAÚDE']['Receitas_realizadas_Bimestre'])\n",
    "                tabela[str(ano)].append(round(denominador/1000000,2))\n",
    "            except:\n",
    "                tabela[str(ano)].append(0)"
   ]
  },
  {
   "cell_type": "code",
   "execution_count": 66,
   "id": "8b61e4a3",
   "metadata": {
    "scrolled": true
   },
   "outputs": [],
   "source": [
    "pd.DataFrame(tabela).to_csv(\"8. Receita adicional total.csv\")\n"
   ]
  },
  {
   "cell_type": "markdown",
   "id": "358b0c87",
   "metadata": {},
   "source": [
    "### 9. Receita adicional total \n"
   ]
  },
  {
   "cell_type": "code",
   "execution_count": 33,
   "id": "e73f552f",
   "metadata": {},
   "outputs": [],
   "source": [
    "tabela={'Região':[],'2013':[],'2014':[],'2015':[],'2016':[],'2017':[],'2018':[],'2019':[]}\n",
    "for Região in np.unique(Adicional['Região']):\n",
    "        tabela['Região'].append(Região)\n",
    "        for ano in np.unique(Adicional['ano']):\n",
    "            try:\n",
    "                região = Adicional[(Adicional['Região']==Região) & (Adicional['ano']==ano)]\n",
    "                denominador =  sum(região[região['campo']=='TOTAL RECEITAS ADICIONAIS PARA FINANCIAMENTO DA SAÚDE']['Receitas_pc'])\n",
    "                tabela[str(ano)].append(round(denominador/1000,2))\n",
    "            except:\n",
    "                tabela[str(ano)].append(0)"
   ]
  },
  {
   "cell_type": "code",
   "execution_count": 67,
   "id": "86cbdec3",
   "metadata": {
    "scrolled": true
   },
   "outputs": [],
   "source": [
    "pd.DataFrame(tabela).to_csv(\"9. Receita adicional total.csv\")"
   ]
  },
  {
   "cell_type": "markdown",
   "id": "6ad1c56d",
   "metadata": {},
   "source": [
    "### 10. Receita adicional percentual\n",
    "#### União"
   ]
  },
  {
   "cell_type": "code",
   "execution_count": 35,
   "id": "a7f8660f",
   "metadata": {},
   "outputs": [],
   "source": [
    "tabela={'Região':[],'2013':[],'2014':[],'2015':[],'2016':[],'2017':[],'2018':[],'2019':[]}\n",
    "for Região in np.unique(Adicional['Região']):\n",
    "        tabela['Região'].append(Região)\n",
    "        for ano in np.unique(Adicional['ano']):\n",
    "            try:\n",
    "                região = Adicional[(Adicional['Região']==Região) & (Adicional['ano']==ano)]\n",
    "                numerador = sum(região[região['campo']=='Provenientes da União']['Receitas_realizadas_Bimestre']) \n",
    "                denominador =  sum(região[região['campo']=='TOTAL RECEITAS ADICIONAIS PARA FINANCIAMENTO DA SAÚDE']['Receitas_realizadas_Bimestre'])\n",
    "                tabela[str(ano)].append(numerador/denominador)\n",
    "            except:\n",
    "                tabela[str(ano)].append(0)"
   ]
  },
  {
   "cell_type": "code",
   "execution_count": 68,
   "id": "95db3827",
   "metadata": {
    "scrolled": true
   },
   "outputs": [],
   "source": [
    "pd.DataFrame(tabela).to_csv(\"10.1 Receita adicional percentual - União.csv\")"
   ]
  },
  {
   "cell_type": "markdown",
   "id": "6fb232ff",
   "metadata": {},
   "source": [
    "#### Estado"
   ]
  },
  {
   "cell_type": "code",
   "execution_count": 37,
   "id": "3a40321c",
   "metadata": {},
   "outputs": [],
   "source": [
    "tabela={'Região':[],'2013':[],'2014':[],'2015':[],'2016':[],'2017':[],'2018':[],'2019':[]}\n",
    "for Região in np.unique(Adicional['Região']):\n",
    "        tabela['Região'].append(Região)\n",
    "        for ano in np.unique(Adicional['ano']):\n",
    "            try:\n",
    "                região = Adicional[(Adicional['Região']==Região) & (Adicional['ano']==ano)]\n",
    "                numerador = sum(região[região['campo']=='Provenientes dos Estados']['Receitas_realizadas_Bimestre']) \n",
    "                denominador =  sum(região[região['campo']=='TOTAL RECEITAS ADICIONAIS PARA FINANCIAMENTO DA SAÚDE']['Receitas_realizadas_Bimestre'])\n",
    "                tabela[str(ano)].append(numerador/denominador)\n",
    "            except:\n",
    "                tabela[str(ano)].append(0)"
   ]
  },
  {
   "cell_type": "code",
   "execution_count": 69,
   "id": "8b0eaeae",
   "metadata": {
    "scrolled": true
   },
   "outputs": [],
   "source": [
    "pd.DataFrame(tabela).to_csv(\"10.2 Receita adicional percentual - Estado.csv\")"
   ]
  },
  {
   "cell_type": "markdown",
   "id": "e9e5453e",
   "metadata": {},
   "source": [
    "### 16. Receita adicional percentual IDH\n",
    "#### 16.1 União"
   ]
  },
  {
   "cell_type": "code",
   "execution_count": 39,
   "id": "468f7883",
   "metadata": {
    "scrolled": true
   },
   "outputs": [],
   "source": [
    "tabela={'IDH':[],'2013':[],'2014':[],'2015':[],'2016':[],'2017':[],'2018':[],'2019':[]}\n",
    "for IDH in np.unique(Adicional['IDH']):\n",
    "        tabela['IDH'].append(IDH)\n",
    "        for ano in np.unique(Adicional['ano']):\n",
    "            try:\n",
    "                região = Adicional[(Adicional['IDH']==IDH) & (Adicional['ano']==ano)]\n",
    "                numerador = sum(região[região['campo']=='Provenientes da União']['Receitas_realizadas_Bimestre']) \n",
    "                denominador =  sum(região[região['campo']=='TOTAL RECEITAS ADICIONAIS PARA FINANCIAMENTO DA SAÚDE']['Receitas_realizadas_Bimestre'])\n",
    "                tabela[str(ano)].append(numerador/denominador)\n",
    "            except:\n",
    "                tabela[str(ano)].append(0)"
   ]
  },
  {
   "cell_type": "code",
   "execution_count": 70,
   "id": "e9292d88",
   "metadata": {},
   "outputs": [],
   "source": [
    "pd.DataFrame(tabela).to_csv(\"16.Receita adicional percentual IDH -União.csv\")"
   ]
  },
  {
   "cell_type": "markdown",
   "id": "41e7148d",
   "metadata": {},
   "source": [
    "#### 10.1 Estado"
   ]
  },
  {
   "cell_type": "code",
   "execution_count": 41,
   "id": "2c41bdd4",
   "metadata": {},
   "outputs": [],
   "source": [
    "tabela={'IDH':[],'2013':[],'2014':[],'2015':[],'2016':[],'2017':[],'2018':[],'2019':[]}\n",
    "for IDH in np.unique(Adicional['IDH']):\n",
    "        tabela['IDH'].append(IDH)\n",
    "        for ano in np.unique(Adicional['ano']):\n",
    "            try:\n",
    "                região = Adicional[(Adicional['IDH']==IDH) & (Adicional['ano']==ano)]\n",
    "                numerador = sum(região[região['campo']=='Provenientes dos Estados']['Receitas_realizadas_Bimestre']) \n",
    "                denominador =  sum(região[região['campo']=='TOTAL RECEITAS ADICIONAIS PARA FINANCIAMENTO DA SAÚDE']['Receitas_realizadas_Bimestre'])\n",
    "                tabela[str(ano)].append(numerador/denominador)\n",
    "            except:\n",
    "                tabela[str(ano)].append(0)"
   ]
  },
  {
   "cell_type": "code",
   "execution_count": 71,
   "id": "a50be48f",
   "metadata": {
    "scrolled": true
   },
   "outputs": [],
   "source": [
    "pd.DataFrame(tabela).to_csv(\"10.2.Receita adicional percentual IDH -Estado.csv\")"
   ]
  },
  {
   "cell_type": "markdown",
   "id": "16c68a39",
   "metadata": {},
   "source": [
    "### 15. Receita adicional percentual Porte\n",
    "#### 15.1 União"
   ]
  },
  {
   "cell_type": "code",
   "execution_count": 43,
   "id": "61ee6cbf",
   "metadata": {},
   "outputs": [],
   "source": [
    "tabela={'Porte':[],'2013':[],'2014':[],'2015':[],'2016':[],'2017':[],'2018':[],'2019':[]}\n",
    "for Porte in np.unique(Adicional['Porte']):\n",
    "        tabela['Porte'].append(Porte)\n",
    "        for ano in np.unique(Adicional['ano']):\n",
    "            try:\n",
    "                região = Adicional[(Adicional['Porte']==Porte) & (Adicional['ano']==ano)]\n",
    "                numerador = sum(região[região['campo']=='Provenientes da União']['Receitas_realizadas_Bimestre']) \n",
    "                denominador =  sum(região[região['campo']=='TOTAL RECEITAS ADICIONAIS PARA FINANCIAMENTO DA SAÚDE']['Receitas_realizadas_Bimestre'])\n",
    "                tabela[str(ano)].append(numerador/denominador)\n",
    "            except:\n",
    "                tabela[str(ano)].append(0)"
   ]
  },
  {
   "cell_type": "code",
   "execution_count": 72,
   "id": "a77e253b",
   "metadata": {
    "scrolled": false
   },
   "outputs": [],
   "source": [
    "pd.DataFrame(tabela).to_csv(\"15. Receita adicional percentual Porte.csv\")"
   ]
  },
  {
   "cell_type": "markdown",
   "id": "8d891a7c",
   "metadata": {},
   "source": [
    "#### 15.2 Estado"
   ]
  },
  {
   "cell_type": "code",
   "execution_count": 45,
   "id": "381694dd",
   "metadata": {},
   "outputs": [],
   "source": [
    "tabela={'Porte':[],'2013':[],'2014':[],'2015':[],'2016':[],'2017':[],'2018':[],'2019':[]}\n",
    "for Porte in np.unique(Adicional['Porte']):\n",
    "        tabela['Porte'].append(Porte)\n",
    "        for ano in np.unique(Adicional['ano']):\n",
    "            try:\n",
    "                região = Adicional[(Adicional['Porte']==Porte) & (Adicional['ano']==ano)]\n",
    "                numerador = sum(região[região['campo']=='Provenientes dos Estados']['Receitas_realizadas_Bimestre']) \n",
    "                denominador =  sum(região[região['campo']=='TOTAL RECEITAS ADICIONAIS PARA FINANCIAMENTO DA SAÚDE']['Receitas_realizadas_Bimestre'])\n",
    "                tabela[str(ano)].append(numerador/denominador)\n",
    "            except:\n",
    "                tabela[str(ano)].append(0)"
   ]
  },
  {
   "cell_type": "code",
   "execution_count": 73,
   "id": "d47d88c6",
   "metadata": {},
   "outputs": [],
   "source": [
    "pd.DataFrame(tabela).to_csv(\"15.1 Receita adicional percentual Porte - Estado.csv\")"
   ]
  }
 ],
 "metadata": {
  "kernelspec": {
   "display_name": "Python 3.9.2 64-bit",
   "language": "python",
   "name": "python39264bit58c471b9b07546f4b2ae2191200cb4a7"
  },
  "language_info": {
   "codemirror_mode": {
    "name": "ipython",
    "version": 3
   },
   "file_extension": ".py",
   "mimetype": "text/x-python",
   "name": "python",
   "nbconvert_exporter": "python",
   "pygments_lexer": "ipython3",
   "version": "3.9.7"
  }
 },
 "nbformat": 4,
 "nbformat_minor": 5
}
