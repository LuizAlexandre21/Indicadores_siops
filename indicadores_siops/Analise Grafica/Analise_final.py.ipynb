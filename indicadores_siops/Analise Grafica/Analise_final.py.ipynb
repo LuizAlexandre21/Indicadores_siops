{
 "cells": [
  {
   "cell_type": "markdown",
   "id": "9cd68e26",
   "metadata": {},
   "source": [
    "# Analise - Final "
   ]
  },
  {
   "cell_type": "markdown",
   "id": "ced9bdbb",
   "metadata": {},
   "source": [
    "## Biblioteca"
   ]
  },
  {
   "cell_type": "code",
   "execution_count": 1,
   "id": "6749e8cb",
   "metadata": {},
   "outputs": [],
   "source": [
    "# Biblioteca \n",
    "import pandas as pd \n",
    "import numpy as np \n",
    "import json\n",
    "from database import * \n",
    "import datetime"
   ]
  },
  {
   "cell_type": "markdown",
   "id": "faafa1c0",
   "metadata": {},
   "source": [
    "## Função de deflação"
   ]
  },
  {
   "cell_type": "code",
   "execution_count": 2,
   "id": "ddd079a0",
   "metadata": {},
   "outputs": [],
   "source": [
    "def deflação(serie,ano_base):\n",
    "    IPCA = {'1980':99.2504889542286,'1981':95.6230442372937,'1982':104.790433277431,'1983':164.01202400196,'1984':215.263325738616,'1985':242.229795207366,'1986':79.6644968645082,'1987':363.411523705732,'1988':980.213487131888,'1989':1972.91162333472,'1990':1620.96646812495,'1991':472.6999999996,'1992':1119.10075082943,'1993':2477.14712129698,'1994':916.46,'1995':22.4081616590914,'1996':9.56495181758998,'1997':5.22431853525425,'1998':1.65497817994227,'1999':8.93978878068851,'2000':5.97459334239816,'2001':7.67343641407332,'2002':12.5302733566877,'2003':9.30051280040003,'2004':7.59949584882642,'2005':5.68922681873509,'2006':3.14151613157687,'2007':4.45765855337372,'2008':5.90272439065465,'2009':4.31165006256784,'2010':5.90868872179453,'2011':6.50335274368017,'2012':5.83859471814745,'2013':5.91068325533108,'2014':6.40747079590815,'2015':10.6730281339751,'2016':6.28798821322138,'2017':2.94742132043471,'2018':3.74558117019155,'2019':4.30615161715953,'2020':4.51745688642451}\n",
    "    deflac =[]\n",
    "    for i in serie.index:\n",
    "        x = (IPCA[i.strftime(\"%Y\")]/IPCA[ano_base])*serie.loc[i]\n",
    "        deflac.append(x)\n",
    "        \n",
    "    return(deflac)"
   ]
  },
  {
   "cell_type": "markdown",
   "id": "6d4e3b07",
   "metadata": {},
   "source": [
    "## Função de Series Temporais "
   ]
  },
  {
   "cell_type": "code",
   "execution_count": 3,
   "id": "e2157d83",
   "metadata": {},
   "outputs": [],
   "source": [
    "def time_serie(dataframe):\n",
    "    new_serie=[]\n",
    "    for i in dataframe:\n",
    "        new_serie.append(datetime.datetime.strptime(str(i),'%Y'))\n",
    "        \n",
    "    return new_serie"
   ]
  },
  {
   "cell_type": "code",
   "execution_count": 4,
   "id": "1628405e",
   "metadata": {},
   "outputs": [],
   "source": [
    "# dados = ReceitasAdicionais.select(ReceitasAdicionais.municipio, ClassificaçõesMunicipio.Região, ClassificaçõesMunicipio.IDH,ReceitasAdicionais.codigo_Municipio, ReceitasAdicionais.estado, ReceitasAdicionais.ano, ReceitasAdicionais.campo, ReceitasAdicionais.Receitas_realizadas_Bimestre,(ReceitasAdicionais.Receitas_realizadas_Bimestre/Populacao.populacao_estimada).alias('Receitas_pc')).join(ClassificaçõesMunicipio,on=(ReceitasAdicionais.municipio==ClassificaçõesMunicipio.Municipio)).join(Populacao,on=((ReceitasAdicionais.municipio==Populacao.municipio) |(ReceitasAdicionais.ano==Populacao.Ano))).where((ReceitasAdicionais.campo=='Provenientes da União')|(ReceitasAdicionais.campo == 'Provenientes dos Estados')| (ReceitasAdicionais.campo== \"TOTAL RECEITAS ADICIONAIS PARA FINANCIAMENTO DA SAÚDE\") &(ReceitasAdicionais.estado == \"Ceará\"))\n",
    "#Apuração= pd.DataFrame(dados.dicts())\n",
    "Apuração = pd.read_csv(\"Tabela_apuração.csv\")\n",
    "Apuração_def = pd.DataFrame(Apuração['Receitas_realizadas_Bimestre'].values,index= time_serie(Apuração['ano']))\n",
    "Apuração['Receitas_realizadas_Bimestre'] = Apuração_def.values\n",
    "Apuração['Receitas_pc'] = Apuração['Receitas_realizadas_Bimestre']/Apuração['populacao_estimada']"
   ]
  },
  {
   "cell_type": "code",
   "execution_count": 5,
   "id": "d4e54ebb",
   "metadata": {},
   "outputs": [],
   "source": [
    "# Importando dados de Receitas Adicionais\n",
    "\n",
    "#data = ReceitasAdicionais.select(ReceitasAdicionais.municipio, ClassificaçõesMunicipio.Região, ClassificaçõesMunicipio.IDH,ReceitasAdicionais.codigo_Municipio, ReceitasAdicionais.estado, ReceitasAdicionais.ano, ReceitasAdicionais.campo, ReceitasAdicionais.Receitas_realizadas_Bimestre,(ReceitasAdicionais.Receitas_realizadas_Bimestre/Populacao.populacao_estimada).alias('Receitas_pc')).join(ClassificaçõesMunicipio,on=(ReceitasAdicionais.municipio == ClassificaçõesMunicipio.Municipio)).join(Populacao,on=((ReceitasAdicionais.municipio==Populacao.municipio)|(ReceitasAdicionais.ano == População.ano)).where((ReceitasAdicionais.campo=='Provenientes da União')|(ReceitasAdicionais.campo == 'Provenientes dos Estados')| (ReceitasAdicionais.campo== \"TOTAL DAS RECEITAS PARA APURAÇÃO DA APLICAÇÃO EM AÇÕES E SERVIÇOS PÚBLICOS DE SAÚDE (III) = I + II\") &(ReceitasAdicionais.estado == \"Ceará\"))\n",
    "#Adicional = pd.DataFrame(dados.dicts())\n",
    "Adicional = pd.read_csv(\"Adicional.csv\")\n",
    "Adicional_def = pd.DataFrame(Adicional['Receitas_realizadas_Bimestre'].values,index= time_serie(Adicional['ano']))\n",
    "Adicional['Receitas_realizadas_Bimestre'] = Adicional_def.values\n",
    "Adicional['Receitas_pc']= Adicional['Receitas_realizadas_Bimestre']/Adicional['populacao_estimada']"
   ]
  },
  {
   "cell_type": "markdown",
   "id": "02642af4",
   "metadata": {},
   "source": [
    "## 1. Receita Municipal total - Região"
   ]
  },
  {
   "cell_type": "code",
   "execution_count": 6,
   "id": "315ef72e",
   "metadata": {},
   "outputs": [],
   "source": [
    "tabela={'Região':[],'2013':[],'2014':[],'2015':[],'2016':[],'2017':[],'2018':[],'2019':[]}\n",
    "for Região in np.unique(Apuração['Região']):\n",
    "        tabela['Região'].append(Região)\n",
    "        for ano in np.unique(Apuração['ano']):\n",
    "            região = Apuração[(Apuração['Região']==Região) & (Apuração['ano']==ano)]\n",
    "            numerador = sum(região[região['campo']=='RECEITA DE IMPOSTOS LÍQUIDA (I)']['Receitas_realizadas_Bimestre'])\n",
    "            tabela[str(ano)].append(round(numerador/1000000,2))"
   ]
  },
  {
   "cell_type": "code",
   "execution_count": 7,
   "id": "2320cb14",
   "metadata": {},
   "outputs": [
    {
     "data": {
      "text/html": [
       "<div>\n",
       "<style scoped>\n",
       "    .dataframe tbody tr th:only-of-type {\n",
       "        vertical-align: middle;\n",
       "    }\n",
       "\n",
       "    .dataframe tbody tr th {\n",
       "        vertical-align: top;\n",
       "    }\n",
       "\n",
       "    .dataframe thead th {\n",
       "        text-align: right;\n",
       "    }\n",
       "</style>\n",
       "<table border=\"1\" class=\"dataframe\">\n",
       "  <thead>\n",
       "    <tr style=\"text-align: right;\">\n",
       "      <th></th>\n",
       "      <th>Região</th>\n",
       "      <th>2013</th>\n",
       "      <th>2014</th>\n",
       "      <th>2015</th>\n",
       "      <th>2016</th>\n",
       "      <th>2017</th>\n",
       "      <th>2018</th>\n",
       "      <th>2019</th>\n",
       "    </tr>\n",
       "  </thead>\n",
       "  <tbody>\n",
       "    <tr>\n",
       "      <th>0</th>\n",
       "      <td>Caucaia</td>\n",
       "      <td>38.12</td>\n",
       "      <td>31.92</td>\n",
       "      <td>40.74</td>\n",
       "      <td>33.77</td>\n",
       "      <td>64.25</td>\n",
       "      <td>36.05</td>\n",
       "      <td>34.27</td>\n",
       "    </tr>\n",
       "    <tr>\n",
       "      <th>1</th>\n",
       "      <td>Acaraú</td>\n",
       "      <td>83.10</td>\n",
       "      <td>108.60</td>\n",
       "      <td>89.50</td>\n",
       "      <td>118.88</td>\n",
       "      <td>99.14</td>\n",
       "      <td>155.64</td>\n",
       "      <td>183.90</td>\n",
       "    </tr>\n",
       "    <tr>\n",
       "      <th>2</th>\n",
       "      <td>Aracati</td>\n",
       "      <td>87.33</td>\n",
       "      <td>108.64</td>\n",
       "      <td>140.65</td>\n",
       "      <td>146.09</td>\n",
       "      <td>183.30</td>\n",
       "      <td>199.97</td>\n",
       "      <td>232.65</td>\n",
       "    </tr>\n",
       "    <tr>\n",
       "      <th>3</th>\n",
       "      <td>Baturité</td>\n",
       "      <td>45.53</td>\n",
       "      <td>51.76</td>\n",
       "      <td>52.33</td>\n",
       "      <td>65.33</td>\n",
       "      <td>61.58</td>\n",
       "      <td>102.11</td>\n",
       "      <td>75.31</td>\n",
       "    </tr>\n",
       "    <tr>\n",
       "      <th>4</th>\n",
       "      <td>Brejo Santo</td>\n",
       "      <td>112.08</td>\n",
       "      <td>209.22</td>\n",
       "      <td>278.22</td>\n",
       "      <td>284.28</td>\n",
       "      <td>182.02</td>\n",
       "      <td>173.70</td>\n",
       "      <td>223.00</td>\n",
       "    </tr>\n",
       "    <tr>\n",
       "      <th>5</th>\n",
       "      <td>Camocim</td>\n",
       "      <td>49.73</td>\n",
       "      <td>53.60</td>\n",
       "      <td>54.55</td>\n",
       "      <td>70.23</td>\n",
       "      <td>62.39</td>\n",
       "      <td>98.25</td>\n",
       "      <td>96.42</td>\n",
       "    </tr>\n",
       "    <tr>\n",
       "      <th>6</th>\n",
       "      <td>Canidé</td>\n",
       "      <td>40.31</td>\n",
       "      <td>37.90</td>\n",
       "      <td>46.19</td>\n",
       "      <td>67.97</td>\n",
       "      <td>69.04</td>\n",
       "      <td>71.13</td>\n",
       "      <td>70.00</td>\n",
       "    </tr>\n",
       "    <tr>\n",
       "      <th>7</th>\n",
       "      <td>Cariri</td>\n",
       "      <td>8.33</td>\n",
       "      <td>20.49</td>\n",
       "      <td>29.92</td>\n",
       "      <td>15.77</td>\n",
       "      <td>0.00</td>\n",
       "      <td>18.67</td>\n",
       "      <td>19.39</td>\n",
       "    </tr>\n",
       "    <tr>\n",
       "      <th>8</th>\n",
       "      <td>Cascavel</td>\n",
       "      <td>204.42</td>\n",
       "      <td>239.35</td>\n",
       "      <td>284.25</td>\n",
       "      <td>306.59</td>\n",
       "      <td>335.53</td>\n",
       "      <td>392.99</td>\n",
       "      <td>415.25</td>\n",
       "    </tr>\n",
       "    <tr>\n",
       "      <th>9</th>\n",
       "      <td>Caucaia</td>\n",
       "      <td>1168.98</td>\n",
       "      <td>1854.92</td>\n",
       "      <td>2145.88</td>\n",
       "      <td>1864.82</td>\n",
       "      <td>1684.90</td>\n",
       "      <td>1634.30</td>\n",
       "      <td>1806.09</td>\n",
       "    </tr>\n",
       "    <tr>\n",
       "      <th>10</th>\n",
       "      <td>Crateús</td>\n",
       "      <td>120.45</td>\n",
       "      <td>136.46</td>\n",
       "      <td>133.17</td>\n",
       "      <td>428.47</td>\n",
       "      <td>177.34</td>\n",
       "      <td>213.27</td>\n",
       "      <td>242.21</td>\n",
       "    </tr>\n",
       "    <tr>\n",
       "      <th>11</th>\n",
       "      <td>Crato</td>\n",
       "      <td>70.55</td>\n",
       "      <td>91.42</td>\n",
       "      <td>104.84</td>\n",
       "      <td>100.96</td>\n",
       "      <td>118.29</td>\n",
       "      <td>164.98</td>\n",
       "      <td>178.68</td>\n",
       "    </tr>\n",
       "    <tr>\n",
       "      <th>12</th>\n",
       "      <td>Farias Brito</td>\n",
       "      <td>90.09</td>\n",
       "      <td>101.96</td>\n",
       "      <td>108.17</td>\n",
       "      <td>91.87</td>\n",
       "      <td>130.47</td>\n",
       "      <td>138.86</td>\n",
       "      <td>139.02</td>\n",
       "    </tr>\n",
       "    <tr>\n",
       "      <th>13</th>\n",
       "      <td>Fortaleza</td>\n",
       "      <td>8009.45</td>\n",
       "      <td>9676.49</td>\n",
       "      <td>10775.90</td>\n",
       "      <td>11219.64</td>\n",
       "      <td>12420.06</td>\n",
       "      <td>13626.65</td>\n",
       "      <td>14821.71</td>\n",
       "    </tr>\n",
       "    <tr>\n",
       "      <th>14</th>\n",
       "      <td>Icó</td>\n",
       "      <td>31.27</td>\n",
       "      <td>46.40</td>\n",
       "      <td>69.03</td>\n",
       "      <td>63.42</td>\n",
       "      <td>49.64</td>\n",
       "      <td>58.09</td>\n",
       "      <td>61.74</td>\n",
       "    </tr>\n",
       "    <tr>\n",
       "      <th>15</th>\n",
       "      <td>Iguatú</td>\n",
       "      <td>236.36</td>\n",
       "      <td>249.69</td>\n",
       "      <td>301.44</td>\n",
       "      <td>333.05</td>\n",
       "      <td>278.08</td>\n",
       "      <td>375.82</td>\n",
       "      <td>338.01</td>\n",
       "    </tr>\n",
       "    <tr>\n",
       "      <th>16</th>\n",
       "      <td>Itapipoca</td>\n",
       "      <td>145.13</td>\n",
       "      <td>140.42</td>\n",
       "      <td>135.30</td>\n",
       "      <td>185.15</td>\n",
       "      <td>164.63</td>\n",
       "      <td>219.14</td>\n",
       "      <td>252.55</td>\n",
       "    </tr>\n",
       "    <tr>\n",
       "      <th>17</th>\n",
       "      <td>Juazeiro Norte</td>\n",
       "      <td>52.21</td>\n",
       "      <td>78.02</td>\n",
       "      <td>65.35</td>\n",
       "      <td>77.31</td>\n",
       "      <td>116.60</td>\n",
       "      <td>109.58</td>\n",
       "      <td>121.32</td>\n",
       "    </tr>\n",
       "    <tr>\n",
       "      <th>18</th>\n",
       "      <td>Limoeiro do Norte</td>\n",
       "      <td>136.46</td>\n",
       "      <td>142.55</td>\n",
       "      <td>138.59</td>\n",
       "      <td>152.00</td>\n",
       "      <td>180.10</td>\n",
       "      <td>244.32</td>\n",
       "      <td>233.04</td>\n",
       "    </tr>\n",
       "    <tr>\n",
       "      <th>19</th>\n",
       "      <td>Maracanaú</td>\n",
       "      <td>429.39</td>\n",
       "      <td>544.72</td>\n",
       "      <td>598.35</td>\n",
       "      <td>597.09</td>\n",
       "      <td>659.21</td>\n",
       "      <td>785.34</td>\n",
       "      <td>922.91</td>\n",
       "    </tr>\n",
       "    <tr>\n",
       "      <th>20</th>\n",
       "      <td>Quixadá</td>\n",
       "      <td>148.96</td>\n",
       "      <td>153.23</td>\n",
       "      <td>185.82</td>\n",
       "      <td>215.97</td>\n",
       "      <td>206.63</td>\n",
       "      <td>258.55</td>\n",
       "      <td>245.63</td>\n",
       "    </tr>\n",
       "    <tr>\n",
       "      <th>21</th>\n",
       "      <td>Russas</td>\n",
       "      <td>75.53</td>\n",
       "      <td>90.29</td>\n",
       "      <td>115.65</td>\n",
       "      <td>101.79</td>\n",
       "      <td>122.33</td>\n",
       "      <td>136.77</td>\n",
       "      <td>143.54</td>\n",
       "    </tr>\n",
       "    <tr>\n",
       "      <th>22</th>\n",
       "      <td>Sobral</td>\n",
       "      <td>289.40</td>\n",
       "      <td>381.23</td>\n",
       "      <td>401.69</td>\n",
       "      <td>389.80</td>\n",
       "      <td>512.24</td>\n",
       "      <td>558.08</td>\n",
       "      <td>596.80</td>\n",
       "    </tr>\n",
       "    <tr>\n",
       "      <th>23</th>\n",
       "      <td>Sobral</td>\n",
       "      <td>17.46</td>\n",
       "      <td>25.51</td>\n",
       "      <td>25.99</td>\n",
       "      <td>38.39</td>\n",
       "      <td>38.45</td>\n",
       "      <td>43.88</td>\n",
       "      <td>36.94</td>\n",
       "    </tr>\n",
       "    <tr>\n",
       "      <th>24</th>\n",
       "      <td>Tauá</td>\n",
       "      <td>61.57</td>\n",
       "      <td>61.56</td>\n",
       "      <td>81.39</td>\n",
       "      <td>86.92</td>\n",
       "      <td>78.48</td>\n",
       "      <td>86.08</td>\n",
       "      <td>90.99</td>\n",
       "    </tr>\n",
       "    <tr>\n",
       "      <th>25</th>\n",
       "      <td>Tianguá</td>\n",
       "      <td>64.20</td>\n",
       "      <td>91.35</td>\n",
       "      <td>96.41</td>\n",
       "      <td>131.06</td>\n",
       "      <td>130.32</td>\n",
       "      <td>169.26</td>\n",
       "      <td>151.84</td>\n",
       "    </tr>\n",
       "  </tbody>\n",
       "</table>\n",
       "</div>"
      ],
      "text/plain": [
       "               Região     2013     2014      2015      2016      2017  \\\n",
       "0             Caucaia    38.12    31.92     40.74     33.77     64.25   \n",
       "1              Acaraú    83.10   108.60     89.50    118.88     99.14   \n",
       "2             Aracati    87.33   108.64    140.65    146.09    183.30   \n",
       "3            Baturité    45.53    51.76     52.33     65.33     61.58   \n",
       "4         Brejo Santo   112.08   209.22    278.22    284.28    182.02   \n",
       "5             Camocim    49.73    53.60     54.55     70.23     62.39   \n",
       "6              Canidé    40.31    37.90     46.19     67.97     69.04   \n",
       "7              Cariri     8.33    20.49     29.92     15.77      0.00   \n",
       "8            Cascavel   204.42   239.35    284.25    306.59    335.53   \n",
       "9             Caucaia  1168.98  1854.92   2145.88   1864.82   1684.90   \n",
       "10            Crateús   120.45   136.46    133.17    428.47    177.34   \n",
       "11              Crato    70.55    91.42    104.84    100.96    118.29   \n",
       "12       Farias Brito    90.09   101.96    108.17     91.87    130.47   \n",
       "13          Fortaleza  8009.45  9676.49  10775.90  11219.64  12420.06   \n",
       "14                Icó    31.27    46.40     69.03     63.42     49.64   \n",
       "15             Iguatú   236.36   249.69    301.44    333.05    278.08   \n",
       "16          Itapipoca   145.13   140.42    135.30    185.15    164.63   \n",
       "17     Juazeiro Norte    52.21    78.02     65.35     77.31    116.60   \n",
       "18  Limoeiro do Norte   136.46   142.55    138.59    152.00    180.10   \n",
       "19          Maracanaú   429.39   544.72    598.35    597.09    659.21   \n",
       "20            Quixadá   148.96   153.23    185.82    215.97    206.63   \n",
       "21             Russas    75.53    90.29    115.65    101.79    122.33   \n",
       "22             Sobral   289.40   381.23    401.69    389.80    512.24   \n",
       "23            Sobral     17.46    25.51     25.99     38.39     38.45   \n",
       "24               Tauá    61.57    61.56     81.39     86.92     78.48   \n",
       "25            Tianguá    64.20    91.35     96.41    131.06    130.32   \n",
       "\n",
       "        2018      2019  \n",
       "0      36.05     34.27  \n",
       "1     155.64    183.90  \n",
       "2     199.97    232.65  \n",
       "3     102.11     75.31  \n",
       "4     173.70    223.00  \n",
       "5      98.25     96.42  \n",
       "6      71.13     70.00  \n",
       "7      18.67     19.39  \n",
       "8     392.99    415.25  \n",
       "9    1634.30   1806.09  \n",
       "10    213.27    242.21  \n",
       "11    164.98    178.68  \n",
       "12    138.86    139.02  \n",
       "13  13626.65  14821.71  \n",
       "14     58.09     61.74  \n",
       "15    375.82    338.01  \n",
       "16    219.14    252.55  \n",
       "17    109.58    121.32  \n",
       "18    244.32    233.04  \n",
       "19    785.34    922.91  \n",
       "20    258.55    245.63  \n",
       "21    136.77    143.54  \n",
       "22    558.08    596.80  \n",
       "23     43.88     36.94  \n",
       "24     86.08     90.99  \n",
       "25    169.26    151.84  "
      ]
     },
     "execution_count": 7,
     "metadata": {},
     "output_type": "execute_result"
    }
   ],
   "source": [
    "pd.DataFrame(tabela).to_csv(\"1. Receita Municipal total - Região.csv\")\n",
    "pd.DataFrame(tabela)"
   ]
  },
  {
   "cell_type": "markdown",
   "id": "2e34adf5",
   "metadata": {},
   "source": [
    "## 2. Receita Municipal total - Região"
   ]
  },
  {
   "cell_type": "code",
   "execution_count": 8,
   "id": "c1bbbd89",
   "metadata": {},
   "outputs": [],
   "source": [
    "tabela={'Região':[],'2013':[],'2014':[],'2015':[],'2016':[],'2017':[],'2018':[],'2019':[]}\n",
    "for Região in np.unique(Apuração['Região']):\n",
    "        tabela['Região'].append(Região)\n",
    "        for ano in np.unique(Apuração['ano']):\n",
    "            região = Apuração[(Apuração['Região']==Região) & (Apuração['ano']==ano)]\n",
    "            numerador = sum(região[região['campo']=='RECEITA DE IMPOSTOS LÍQUIDA (I)']['Receitas_pc'])\n",
    "            tabela[str(ano)].append(round(numerador,2))"
   ]
  },
  {
   "cell_type": "code",
   "execution_count": 9,
   "id": "978fae16",
   "metadata": {},
   "outputs": [],
   "source": [
    "pd.DataFrame(tabela).to_csv(\" 2. Receita Municipal total - Região.csv\")"
   ]
  },
  {
   "cell_type": "markdown",
   "id": "3cad25a2",
   "metadata": {},
   "source": [
    "## 3. Percentual da receita liquida municipal"
   ]
  },
  {
   "cell_type": "code",
   "execution_count": 10,
   "id": "4453b2b2",
   "metadata": {},
   "outputs": [],
   "source": [
    "tabela={'Região':[],'2013':[],'2014':[],'2015':[],'2016':[],'2017':[],'2018':[],'2019':[]}\n",
    "for Região in np.unique(Apuração['Região']):\n",
    "        tabela['Região'].append(Região)\n",
    "        for ano in np.unique(Apuração['ano']):\n",
    "            try:\n",
    "                região = Apuração[(Apuração['Região']==Região) & (Apuração['ano']==ano)]\n",
    "                numerador = sum(região[região['campo']=='RECEITA DE IMPOSTOS LÍQUIDA (I)']['Receitas_realizadas_Bimestre'])\n",
    "                denominador = sum(região[região['campo']== 'TOTAL DAS RECEITAS PARA APURAÇÃO DA APLICAÇÃO EM AÇÕES E SERVIÇOS PÚBLICOS DE SAÚDE (III) = I + II']['Receitas_realizadas_Bimestre'])\n",
    "                tabela[str(ano)].append(numerador/denominador)\n",
    "            except:\n",
    "                tabela[str(ano)].append(0)\n",
    "                "
   ]
  },
  {
   "cell_type": "code",
   "execution_count": 11,
   "id": "b3c725f6",
   "metadata": {},
   "outputs": [],
   "source": [
    "pd.DataFrame(tabela).to_csv(\"3. Percentual da receita liquida municipal.csv\")"
   ]
  },
  {
   "cell_type": "markdown",
   "id": "22672f35",
   "metadata": {},
   "source": [
    "### 4. Percentual da receita Liquida - IDH"
   ]
  },
  {
   "cell_type": "code",
   "execution_count": 12,
   "id": "fad5c8a1",
   "metadata": {},
   "outputs": [],
   "source": [
    "tabela={'IDH':[],'2013':[],'2014':[],'2015':[],'2016':[],'2017':[],'2018':[],'2019':[]}\n",
    "for IDH in np.unique(Apuração['IDH']):\n",
    "        tabela['IDH'].append(IDH)\n",
    "        for ano in np.unique(Apuração['ano']):\n",
    "            try:\n",
    "                região = Apuração[(Apuração['IDH']==IDH) & (Apuração['ano']==ano)]\n",
    "                numerador = sum(região[região['campo']=='RECEITA DE IMPOSTOS LÍQUIDA (I)']['Receitas_realizadas_Bimestre'])\n",
    "                denominador = sum(região[região['campo']== 'TOTAL DAS RECEITAS PARA APURAÇÃO DA APLICAÇÃO EM AÇÕES E SERVIÇOS PÚBLICOS DE SAÚDE (III) = I + II']['Receitas_realizadas_Bimestre'])\n",
    "                tabela[str(ano)].append(numerador/denominador)\n",
    "            except:\n",
    "                tabela[str(ano)].append(0)\n",
    "                "
   ]
  },
  {
   "cell_type": "code",
   "execution_count": 13,
   "id": "6a2e0f5a",
   "metadata": {
    "scrolled": true
   },
   "outputs": [],
   "source": [
    "pd.DataFrame(tabela).to_csv(\"4. Percentual da receita Liquida - IDH.csv\")"
   ]
  },
  {
   "cell_type": "markdown",
   "id": "1f210f59",
   "metadata": {},
   "source": [
    "### 11. Receitas liquida municipal  - Porte"
   ]
  },
  {
   "cell_type": "code",
   "execution_count": 14,
   "id": "a634672a",
   "metadata": {},
   "outputs": [],
   "source": [
    "tabela={'Porte':[],'2013':[],'2014':[],'2015':[],'2016':[],'2017':[],'2018':[],'2019':[]}\n",
    "for Porte in np.unique(Apuração['Porte']):\n",
    "        tabela['Porte'].append(Porte)\n",
    "        for ano in np.unique(Apuração['ano']):\n",
    "            try:\n",
    "                região = Apuração[(Apuração['Porte']==Porte) & (Apuração['ano']==ano)]\n",
    "                numerador = sum(região[região['campo']=='RECEITA DE IMPOSTOS LÍQUIDA (I)']['Receitas_realizadas_Bimestre'])\n",
    "                denominador = sum(região[região['campo']== 'TOTAL DAS RECEITAS PARA APURAÇÃO DA APLICAÇÃO EM AÇÕES E SERVIÇOS PÚBLICOS DE SAÚDE (III) = I + II']['Receitas_realizadas_Bimestre'])\n",
    "                tabela[str(ano)].append(numerador/denominador)\n",
    "            except:\n",
    "                tabela[str(ano)].append(0)"
   ]
  },
  {
   "cell_type": "code",
   "execution_count": 15,
   "id": "89f0d06d",
   "metadata": {},
   "outputs": [],
   "source": [
    "pd.DataFrame(tabela).to_csv(\"11. Receitas liquida municipal - Porte.csv\")"
   ]
  },
  {
   "cell_type": "markdown",
   "id": "b85fcbb1",
   "metadata": {},
   "source": [
    "### 5. Receita total per capita"
   ]
  },
  {
   "cell_type": "code",
   "execution_count": 16,
   "id": "4e911eeb",
   "metadata": {},
   "outputs": [],
   "source": [
    "tabela={'IDH':[],'2013':[],'2014':[],'2015':[],'2016':[],'2017':[],'2018':[],'2019':[]}\n",
    "for IDH in np.unique(Apuração['IDH']):\n",
    "        tabela['IDH'].append(IDH)\n",
    "        for ano in np.unique(Apuração['ano']):\n",
    "            try:\n",
    "                região = Apuração[(Apuração['IDH']==IDH) & (Apuração['ano']==ano)]\n",
    "                numerador = sum(região[região['campo']=='TOTAL DAS RECEITAS PARA APURAÇÃO DA APLICAÇÃO EM AÇÕES E SERVIÇOS PÚBLICOS DE SAÚDE (III) = I + II']['Receitas_pc'])\n",
    "                tabela[str(ano)].append(numerador)\n",
    "            except:\n",
    "                tabela[str(ano)].append(0)"
   ]
  },
  {
   "cell_type": "code",
   "execution_count": 17,
   "id": "258aab32",
   "metadata": {
    "scrolled": true
   },
   "outputs": [],
   "source": [
    "pd.DataFrame(tabela).to_csv(\"Receita total per capita.csv\")"
   ]
  },
  {
   "cell_type": "markdown",
   "id": "fd8d1a78",
   "metadata": {},
   "source": [
    "### 12. Receita total per capita"
   ]
  },
  {
   "cell_type": "code",
   "execution_count": 18,
   "id": "ec6eedb9",
   "metadata": {},
   "outputs": [],
   "source": [
    "tabela={'Porte':[],'2013':[],'2014':[],'2015':[],'2016':[],'2017':[],'2018':[],'2019':[]}\n",
    "for Porte in np.unique(Apuração['Porte']):\n",
    "        tabela['Porte'].append(Porte)\n",
    "        for ano in np.unique(Apuração['ano']):\n",
    "            try:\n",
    "                região = Apuração[(Apuração['Porte']==Porte) & (Apuração['ano']==ano)]\n",
    "                numerador = sum(região[região['campo']=='TOTAL DAS RECEITAS PARA APURAÇÃO DA APLICAÇÃO EM AÇÕES E SERVIÇOS PÚBLICOS DE SAÚDE (III) = I + II']['Receitas_pc'])\n",
    "                tabela[str(ano)].append(numerador)\n",
    "            except:\n",
    "                tabela[str(ano)].append(0)"
   ]
  },
  {
   "cell_type": "code",
   "execution_count": 19,
   "id": "6c15c902",
   "metadata": {},
   "outputs": [],
   "source": [
    "pd.DataFrame(tabela).to_csv(\" Receita total per capita.csv\")"
   ]
  },
  {
   "cell_type": "markdown",
   "id": "1f697c74",
   "metadata": {},
   "source": [
    "### 6. Transferências da União e Estado \n",
    "#### 6.1 Transferências da União "
   ]
  },
  {
   "cell_type": "code",
   "execution_count": 20,
   "id": "a0d8b94c",
   "metadata": {},
   "outputs": [],
   "source": [
    "tabela={'Região':[],'2013':[],'2014':[],'2015':[],'2016':[],'2017':[],'2018':[],'2019':[]}\n",
    "for Região in np.unique(Apuração['Região']):\n",
    "        tabela['Região'].append(Região)\n",
    "        for ano in np.unique(Apuração['ano']):\n",
    "            try:\n",
    "                região = Apuração[(Apuração['Região']==Região) & (Apuração['ano']==ano)]\n",
    "                numerador = sum(região[região['campo']==\"Cota-Parte FPM\"]['Receitas_realizadas_Bimestre']) + sum(região[região['campo']==\"Cota-Parte ITR\"]['Receitas_realizadas_Bimestre']) + sum(região[região['campo']==\"Desoneração ICMS (LC 87/96)\"]['Receitas_realizadas_Bimestre'])\n",
    "                denominador = sum(região[região['campo']== 'TOTAL DAS RECEITAS PARA APURAÇÃO DA APLICAÇÃO EM AÇÕES E SERVIÇOS PÚBLICOS DE SAÚDE (III) = I + II']['Receitas_realizadas_Bimestre'])\n",
    "                tabela[str(ano)].append(numerador/denominador)\n",
    "            except:\n",
    "                tabela[str(ano)].append(0)"
   ]
  },
  {
   "cell_type": "code",
   "execution_count": 21,
   "id": "3b860a78",
   "metadata": {
    "scrolled": true
   },
   "outputs": [],
   "source": [
    "pd.DataFrame(tabela).to_csv(\"6.1 Transferências da União.csv\")"
   ]
  },
  {
   "cell_type": "markdown",
   "id": "113afc86",
   "metadata": {},
   "source": [
    "### 13. Transferências da União e Estado \n",
    "#### 13.1 Transferências da União "
   ]
  },
  {
   "cell_type": "code",
   "execution_count": 22,
   "id": "71e2e849",
   "metadata": {},
   "outputs": [],
   "source": [
    "tabela={'Porte':[],'2013':[],'2014':[],'2015':[],'2016':[],'2017':[],'2018':[],'2019':[]}\n",
    "for Porte in np.unique(Apuração['Porte']):\n",
    "        tabela['Porte'].append(Porte)\n",
    "        for ano in np.unique(Apuração['ano']):\n",
    "            try:\n",
    "                região = Apuração[(Apuração['Porte']==Porte) & (Apuração['ano']==ano)]\n",
    "                numerador = sum(região[região['campo']==\"Cota-Parte FPM\"]['Receitas_realizadas_Bimestre']) + sum(região[região['campo']==\"Cota-Parte ITR\"]['Receitas_realizadas_Bimestre']) + sum(região[região['campo']==\"Desoneração ICMS (LC 87/96)\"]['Receitas_realizadas_Bimestre'])\n",
    "                denominador = sum(região[região['campo']== 'TOTAL DAS RECEITAS PARA APURAÇÃO DA APLICAÇÃO EM AÇÕES E SERVIÇOS PÚBLICOS DE SAÚDE (III) = I + II']['Receitas_realizadas_Bimestre'])\n",
    "                tabela[str(ano)].append(numerador/denominador)\n",
    "            except:\n",
    "                tabela[str(ano)].append(0)"
   ]
  },
  {
   "cell_type": "code",
   "execution_count": 23,
   "id": "7e0ae8b8",
   "metadata": {},
   "outputs": [],
   "source": [
    "pd.DataFrame(tabela).to_csv(\"13.1 Transferências da União - Porte.csv\")"
   ]
  },
  {
   "cell_type": "markdown",
   "id": "58afbc68",
   "metadata": {},
   "source": [
    "#### 6.2 Transferências do Estado"
   ]
  },
  {
   "cell_type": "code",
   "execution_count": 24,
   "id": "b5e0c45b",
   "metadata": {},
   "outputs": [],
   "source": [
    "tabela={'Região':[],'2013':[],'2014':[],'2015':[],'2016':[],'2017':[],'2018':[],'2019':[]}\n",
    "for Região in np.unique(Apuração['Região']):\n",
    "        tabela['Região'].append(Região)\n",
    "        for ano in np.unique(Apuração['ano']):\n",
    "            try:\n",
    "                região = Apuração[(Apuração['Região']==Região) & (Apuração['ano']==ano)]\n",
    "                numerador = sum(região[região['campo']==\"Cota-Parte ICMS\"]['Receitas_realizadas_Bimestre']) + sum(região[região['campo']==\"Cota-Parte IPI-Exportação\"]['Receitas_realizadas_Bimestre']) + sum(região[região['campo']==\"Cota-Parte IPVA\"]['Receitas_realizadas_Bimestre'])\n",
    "                denominador = sum(região[região['campo']== 'TOTAL DAS RECEITAS PARA APURAÇÃO DA APLICAÇÃO EM AÇÕES E SERVIÇOS PÚBLICOS DE SAÚDE (III) = I + II']['Receitas_realizadas_Bimestre'])\n",
    "                tabela[str(ano)].append(numerador/denominador)\n",
    "            except:\n",
    "                tabela[str(ano)].append(0)"
   ]
  },
  {
   "cell_type": "code",
   "execution_count": 25,
   "id": "58e39b46",
   "metadata": {
    "scrolled": true
   },
   "outputs": [],
   "source": [
    "pd.DataFrame(tabela).to_csv(\"Transferências do Estado.csv \")"
   ]
  },
  {
   "cell_type": "markdown",
   "id": "245cf778",
   "metadata": {},
   "source": [
    "#### 13.2 Transferências do Estado"
   ]
  },
  {
   "cell_type": "code",
   "execution_count": 26,
   "id": "0ea161b0",
   "metadata": {},
   "outputs": [],
   "source": [
    "tabela={'Porte':[],'2013':[],'2014':[],'2015':[],'2016':[],'2017':[],'2018':[],'2019':[]}\n",
    "for Porte in np.unique(Apuração['Porte']):\n",
    "        tabela['Porte'].append(Porte)\n",
    "        for ano in np.unique(Apuração['ano']):\n",
    "            try:\n",
    "                região = Apuração[(Apuração['Porte']==Porte) & (Apuração['ano']==ano)]\n",
    "                numerador = sum(região[região['campo']==\"Cota-Parte ICMS\"]['Receitas_realizadas_Bimestre']) + sum(região[região['campo']==\"Cota-Parte IPI-Exportação\"]['Receitas_realizadas_Bimestre']) + sum(região[região['campo']==\"Cota-Parte IPVA\"]['Receitas_realizadas_Bimestre'])\n",
    "                denominador = sum(região[região['campo']== 'TOTAL DAS RECEITAS PARA APURAÇÃO DA APLICAÇÃO EM AÇÕES E SERVIÇOS PÚBLICOS DE SAÚDE (III) = I + II']['Receitas_realizadas_Bimestre'])\n",
    "                tabela[str(ano)].append(numerador/denominador)\n",
    "            except:\n",
    "                tabela[str(ano)].append(0)"
   ]
  },
  {
   "cell_type": "code",
   "execution_count": 27,
   "id": "8783e32f",
   "metadata": {},
   "outputs": [],
   "source": [
    "pd.DataFrame(tabela).to_csv(\"13.2 Transferências do Estado.csv\")"
   ]
  },
  {
   "cell_type": "markdown",
   "id": "ba0af326",
   "metadata": {},
   "source": [
    "### 7. Transferências da União e Estado - IDH\n",
    "#### 7.1 Transferências da União "
   ]
  },
  {
   "cell_type": "code",
   "execution_count": 28,
   "id": "52fc9815",
   "metadata": {},
   "outputs": [],
   "source": [
    "tabela={'IDH':[],'2013':[],'2014':[],'2015':[],'2016':[],'2017':[],'2018':[],'2019':[]}\n",
    "for IDH in np.unique(Apuração['IDH']):\n",
    "        tabela['IDH'].append(IDH)\n",
    "        for ano in np.unique(Apuração['ano']):\n",
    "            try:\n",
    "                região = Apuração[(Apuração['IDH']==IDH) & (Apuração['ano']==ano)]\n",
    "                numerador = sum(região[região['campo']==\"Cota-Parte FPM\"]['Receitas_realizadas_Bimestre']) + sum(região[região['campo']==\"Cota-Parte ITR\"]['Receitas_realizadas_Bimestre']) + sum(região[região['campo']==\"Desoneração ICMS (LC 87/96)\"]['Receitas_realizadas_Bimestre'])\n",
    "                denominador = sum(região[região['campo']== 'TOTAL DAS RECEITAS PARA APURAÇÃO DA APLICAÇÃO EM AÇÕES E SERVIÇOS PÚBLICOS DE SAÚDE (III) = I + II']['Receitas_realizadas_Bimestre'])\n",
    "                tabela[str(ano)].append(numerador/denominador)\n",
    "            except:\n",
    "                tabela[str(ano)].append(0)"
   ]
  },
  {
   "cell_type": "code",
   "execution_count": 29,
   "id": "653b1776",
   "metadata": {},
   "outputs": [],
   "source": [
    "pd.DataFrame(tabela).to_csv(\"7.1 Transferências da União - IDH.csv\")"
   ]
  },
  {
   "cell_type": "markdown",
   "id": "7a91173c",
   "metadata": {},
   "source": [
    "#### 7.2 Transferências da Estado"
   ]
  },
  {
   "cell_type": "code",
   "execution_count": 30,
   "id": "08997b4c",
   "metadata": {},
   "outputs": [],
   "source": [
    "tabela={'IDH':[],'2013':[],'2014':[],'2015':[],'2016':[],'2017':[],'2018':[],'2019':[]}\n",
    "for IDH in np.unique(Apuração['IDH']):\n",
    "        tabela['IDH'].append(IDH)\n",
    "        for ano in np.unique(Apuração['ano']):\n",
    "            try:\n",
    "                região = Apuração[(Apuração['IDH']==IDH) & (Apuração['ano']==ano)]\n",
    "                numerador = sum(região[região['campo']==\"Cota-Parte ICMS\"]['Receitas_realizadas_Bimestre']) + sum(região[região['campo']==\"Cota-Parte IPI-Exportação\"]['Receitas_realizadas_Bimestre']) + sum(região[região['campo']==\"Cota-Parte IPVA\"]['Receitas_realizadas_Bimestre'])\n",
    "                denominador = sum(região[região['campo']== 'TOTAL DAS RECEITAS PARA APURAÇÃO DA APLICAÇÃO EM AÇÕES E SERVIÇOS PÚBLICOS DE SAÚDE (III) = I + II']['Receitas_realizadas_Bimestre'])\n",
    "                tabela[str(ano)].append(numerador/denominador)\n",
    "            except:\n",
    "                tabela[str(ano)].append(0)"
   ]
  },
  {
   "cell_type": "code",
   "execution_count": 31,
   "id": "77402194",
   "metadata": {
    "scrolled": true
   },
   "outputs": [],
   "source": [
    "pd.DataFrame(tabela).to_csv(\"7.2 Transferências da Estado.csv\")"
   ]
  },
  {
   "cell_type": "markdown",
   "id": "44922fa0",
   "metadata": {},
   "source": [
    "### 8. Receita adicional total \n"
   ]
  },
  {
   "cell_type": "code",
   "execution_count": 32,
   "id": "be7ba44b",
   "metadata": {},
   "outputs": [],
   "source": [
    "tabela={'Região':[],'2013':[],'2014':[],'2015':[],'2016':[],'2017':[],'2018':[],'2019':[]}\n",
    "for Região in np.unique(Adicional['Região']):\n",
    "        tabela['Região'].append(Região)\n",
    "        for ano in np.unique(Adicional['ano']):\n",
    "            try:\n",
    "                região = Adicional[(Adicional['Região']==Região) & (Adicional['ano']==ano)]\n",
    "                denominador =  sum(região[região['campo']=='TOTAL RECEITAS ADICIONAIS PARA FINANCIAMENTO DA SAÚDE']['Receitas_realizadas_Bimestre'])\n",
    "                tabela[str(ano)].append(round(denominador/1000000,2))\n",
    "            except:\n",
    "                tabela[str(ano)].append(0)"
   ]
  },
  {
   "cell_type": "code",
   "execution_count": 33,
   "id": "8b61e4a3",
   "metadata": {
    "scrolled": true
   },
   "outputs": [],
   "source": [
    "pd.DataFrame(tabela).to_csv(\"8. Receita adicional total.csv\")\n"
   ]
  },
  {
   "cell_type": "markdown",
   "id": "358b0c87",
   "metadata": {},
   "source": [
    "### 9. Receita adicional total \n"
   ]
  },
  {
   "cell_type": "code",
   "execution_count": 34,
   "id": "e73f552f",
   "metadata": {},
   "outputs": [],
   "source": [
    "tabela={'Região':[],'2013':[],'2014':[],'2015':[],'2016':[],'2017':[],'2018':[],'2019':[]}\n",
    "for Região in np.unique(Adicional['Região']):\n",
    "        tabela['Região'].append(Região)\n",
    "        for ano in np.unique(Adicional['ano']):\n",
    "            try:\n",
    "                região = Adicional[(Adicional['Região']==Região) & (Adicional['ano']==ano)]\n",
    "                denominador =  sum(região[região['campo']=='TOTAL RECEITAS ADICIONAIS PARA FINANCIAMENTO DA SAÚDE']['Receitas_pc'])\n",
    "                tabela[str(ano)].append(round(denominador/1000,2))\n",
    "            except:\n",
    "                tabela[str(ano)].append(0)"
   ]
  },
  {
   "cell_type": "code",
   "execution_count": 35,
   "id": "86cbdec3",
   "metadata": {
    "scrolled": true
   },
   "outputs": [],
   "source": [
    "pd.DataFrame(tabela).to_csv(\"9. Receita adicional total.csv\")"
   ]
  },
  {
   "cell_type": "markdown",
   "id": "6ad1c56d",
   "metadata": {},
   "source": [
    "### 10. Receita adicional percentual\n",
    "#### União"
   ]
  },
  {
   "cell_type": "code",
   "execution_count": 36,
   "id": "a7f8660f",
   "metadata": {},
   "outputs": [],
   "source": [
    "tabela={'Região':[],'2013':[],'2014':[],'2015':[],'2016':[],'2017':[],'2018':[],'2019':[]}\n",
    "for Região in np.unique(Adicional['Região']):\n",
    "        tabela['Região'].append(Região)\n",
    "        for ano in np.unique(Adicional['ano']):\n",
    "            try:\n",
    "                região = Adicional[(Adicional['Região']==Região) & (Adicional['ano']==ano)]\n",
    "                numerador = sum(região[região['campo']=='Provenientes da União']['Receitas_realizadas_Bimestre']) \n",
    "                denominador =  sum(região[região['campo']=='TOTAL RECEITAS ADICIONAIS PARA FINANCIAMENTO DA SAÚDE']['Receitas_realizadas_Bimestre'])\n",
    "                tabela[str(ano)].append(numerador/denominador)\n",
    "            except:\n",
    "                tabela[str(ano)].append(0)"
   ]
  },
  {
   "cell_type": "code",
   "execution_count": 37,
   "id": "95db3827",
   "metadata": {
    "scrolled": true
   },
   "outputs": [],
   "source": [
    "pd.DataFrame(tabela).to_csv(\"10.1 Receita adicional percentual - União.csv\")"
   ]
  },
  {
   "cell_type": "markdown",
   "id": "6fb232ff",
   "metadata": {},
   "source": [
    "#### Estado"
   ]
  },
  {
   "cell_type": "code",
   "execution_count": 38,
   "id": "3a40321c",
   "metadata": {},
   "outputs": [],
   "source": [
    "tabela={'Região':[],'2013':[],'2014':[],'2015':[],'2016':[],'2017':[],'2018':[],'2019':[]}\n",
    "for Região in np.unique(Adicional['Região']):\n",
    "        tabela['Região'].append(Região)\n",
    "        for ano in np.unique(Adicional['ano']):\n",
    "            try:\n",
    "                região = Adicional[(Adicional['Região']==Região) & (Adicional['ano']==ano)]\n",
    "                numerador = sum(região[região['campo']=='Provenientes dos Estados']['Receitas_realizadas_Bimestre']) \n",
    "                denominador =  sum(região[região['campo']=='TOTAL RECEITAS ADICIONAIS PARA FINANCIAMENTO DA SAÚDE']['Receitas_realizadas_Bimestre'])\n",
    "                tabela[str(ano)].append(numerador/denominador)\n",
    "            except:\n",
    "                tabela[str(ano)].append(0)"
   ]
  },
  {
   "cell_type": "code",
   "execution_count": 39,
   "id": "8b0eaeae",
   "metadata": {
    "scrolled": true
   },
   "outputs": [],
   "source": [
    "pd.DataFrame(tabela).to_csv(\"10.2 Receita adicional percentual - Estado.csv\")"
   ]
  },
  {
   "cell_type": "markdown",
   "id": "e9e5453e",
   "metadata": {},
   "source": [
    "### 16. Receita adicional percentual IDH\n",
    "#### 16.1 União"
   ]
  },
  {
   "cell_type": "code",
   "execution_count": 40,
   "id": "468f7883",
   "metadata": {
    "scrolled": true
   },
   "outputs": [],
   "source": [
    "tabela={'IDH':[],'2013':[],'2014':[],'2015':[],'2016':[],'2017':[],'2018':[],'2019':[]}\n",
    "for IDH in np.unique(Adicional['IDH']):\n",
    "        tabela['IDH'].append(IDH)\n",
    "        for ano in np.unique(Adicional['ano']):\n",
    "            try:\n",
    "                região = Adicional[(Adicional['IDH']==IDH) & (Adicional['ano']==ano)]\n",
    "                numerador = sum(região[região['campo']=='Provenientes da União']['Receitas_realizadas_Bimestre']) \n",
    "                denominador =  sum(região[região['campo']=='TOTAL RECEITAS ADICIONAIS PARA FINANCIAMENTO DA SAÚDE']['Receitas_realizadas_Bimestre'])\n",
    "                tabela[str(ano)].append(numerador/denominador)\n",
    "            except:\n",
    "                tabela[str(ano)].append(0)"
   ]
  },
  {
   "cell_type": "code",
   "execution_count": 41,
   "id": "e9292d88",
   "metadata": {},
   "outputs": [],
   "source": [
    "pd.DataFrame(tabela).to_csv(\"16.Receita adicional percentual IDH -União.csv\")"
   ]
  },
  {
   "cell_type": "markdown",
   "id": "41e7148d",
   "metadata": {},
   "source": [
    "#### 10.1 Estado"
   ]
  },
  {
   "cell_type": "code",
   "execution_count": 42,
   "id": "2c41bdd4",
   "metadata": {},
   "outputs": [],
   "source": [
    "tabela={'IDH':[],'2013':[],'2014':[],'2015':[],'2016':[],'2017':[],'2018':[],'2019':[]}\n",
    "for IDH in np.unique(Adicional['IDH']):\n",
    "        tabela['IDH'].append(IDH)\n",
    "        for ano in np.unique(Adicional['ano']):\n",
    "            try:\n",
    "                região = Adicional[(Adicional['IDH']==IDH) & (Adicional['ano']==ano)]\n",
    "                numerador = sum(região[região['campo']=='Provenientes dos Estados']['Receitas_realizadas_Bimestre']) \n",
    "                denominador =  sum(região[região['campo']=='TOTAL RECEITAS ADICIONAIS PARA FINANCIAMENTO DA SAÚDE']['Receitas_realizadas_Bimestre'])\n",
    "                tabela[str(ano)].append(numerador/denominador)\n",
    "            except:\n",
    "                tabela[str(ano)].append(0)"
   ]
  },
  {
   "cell_type": "code",
   "execution_count": 43,
   "id": "a50be48f",
   "metadata": {
    "scrolled": true
   },
   "outputs": [],
   "source": [
    "pd.DataFrame(tabela).to_csv(\"10.2.Receita adicional percentual IDH -Estado.csv\")"
   ]
  },
  {
   "cell_type": "markdown",
   "id": "740934eb",
   "metadata": {},
   "source": [
    "### 15. Receita adicional percentual Porte\n",
    "#### 15.1 União"
   ]
  },
  {
   "cell_type": "code",
   "execution_count": 44,
   "id": "add3c55f",
   "metadata": {},
   "outputs": [],
   "source": [
    "tabela={'Porte':[],'2013':[],'2014':[],'2015':[],'2016':[],'2017':[],'2018':[],'2019':[]}\n",
    "for Porte in np.unique(Adicional['Porte']):\n",
    "        tabela['Porte'].append(Porte)\n",
    "        for ano in np.unique(Adicional['ano']):\n",
    "            try:\n",
    "                região = Adicional[(Adicional['Porte']==Porte) & (Adicional['ano']==ano)]\n",
    "                numerador = sum(região[região['campo']=='Provenientes da União']['Receitas_realizadas_Bimestre']) \n",
    "                denominador =  sum(região[região['campo']=='TOTAL RECEITAS ADICIONAIS PARA FINANCIAMENTO DA SAÚDE']['Receitas_realizadas_Bimestre'])\n",
    "                tabela[str(ano)].append(numerador/denominador)\n",
    "            except:\n",
    "                tabela[str(ano)].append(0)"
   ]
  },
  {
   "cell_type": "code",
   "execution_count": 45,
   "id": "8558d301",
   "metadata": {
    "scrolled": false
   },
   "outputs": [],
   "source": [
    "pd.DataFrame(tabela).to_csv(\"15. Receita adicional percentual Porte.csv\")"
   ]
  },
  {
   "cell_type": "markdown",
   "id": "74e8abc1",
   "metadata": {},
   "source": [
    "#### 15.2 Estado"
   ]
  },
  {
   "cell_type": "code",
   "execution_count": 46,
   "id": "681382da",
   "metadata": {},
   "outputs": [],
   "source": [
    "tabela={'Porte':[],'2013':[],'2014':[],'2015':[],'2016':[],'2017':[],'2018':[],'2019':[]}\n",
    "for Porte in np.unique(Adicional['Porte']):\n",
    "        tabela['Porte'].append(Porte)\n",
    "        for ano in np.unique(Adicional['ano']):\n",
    "            try:\n",
    "                região = Adicional[(Adicional['Porte']==Porte) & (Adicional['ano']==ano)]\n",
    "                numerador = sum(região[região['campo']=='Provenientes dos Estados']['Receitas_realizadas_Bimestre']) \n",
    "                denominador =  sum(região[região['campo']=='TOTAL RECEITAS ADICIONAIS PARA FINANCIAMENTO DA SAÚDE']['Receitas_realizadas_Bimestre'])\n",
    "                tabela[str(ano)].append(numerador/denominador)\n",
    "            except:\n",
    "                tabela[str(ano)].append(0)"
   ]
  },
  {
   "cell_type": "code",
   "execution_count": 47,
   "id": "4d7b86ae",
   "metadata": {},
   "outputs": [],
   "source": [
    "pd.DataFrame(tabela).to_csv(\"15.1 Receita adicional percentual Porte - Estado.csv\")"
   ]
  }
 ],
 "metadata": {
  "kernelspec": {
   "display_name": "Python 3.9.2 64-bit",
   "language": "python",
   "name": "python39264bit58c471b9b07546f4b2ae2191200cb4a7"
  },
  "language_info": {
   "codemirror_mode": {
    "name": "ipython",
    "version": 3
   },
   "file_extension": ".py",
   "mimetype": "text/x-python",
   "name": "python",
   "nbconvert_exporter": "python",
   "pygments_lexer": "ipython3",
   "version": "3.9.7"
  }
 },
 "nbformat": 4,
 "nbformat_minor": 5
}
